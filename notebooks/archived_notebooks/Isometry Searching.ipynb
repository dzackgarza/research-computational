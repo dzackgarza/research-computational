{
 "cells": [
  {
   "cell_type": "raw",
   "metadata": {
    "vscode": {
     "languageId": "raw"
    }
   },
   "source": [
    "# 📋 IMPORTANT NOTE: Hyperbolic Diagram Functions Extracted\n",
    "\n",
    "**All hyperbolic diagram functions from this notebook have been extracted and organized into:**\n",
    "- **File**: `hyperbolic_diagrams.sage`\n",
    "- **Location**: Same directory as this notebook\n",
    "\n",
    "## Available Functions:\n",
    "- `generate_asymptotically_parallel_svg()` - Creates asymptotically parallel geodesics\n",
    "- `generate_ultraparallel_plane_model_svg()` - Creates ultraparallel geodesics in UHP\n",
    "- `generate_hyperbolic_triangle_examples()` - Creates hyperbolic triangle examples  \n",
    "- `do_reflect()` - Hyperbolic reflection function for tessellations\n",
    "- `create_hyperbolic_tessellation()` - Complete tessellation generation\n",
    "- `generate_all_hyperbolic_images()` - Convenience function to generate all images\n",
    "\n",
    "## Usage:\n",
    "```sage\n",
    "load('hyperbolic_diagrams.sage')\n",
    "\n",
    "# Generate all hyperbolic images\n",
    "images = generate_all_hyperbolic_images()\n",
    "\n",
    "# Or use individual functions\n",
    "p = generate_asymptotically_parallel_svg(\"my_geodesics.svg\")\n",
    "tessellation = create_hyperbolic_tessellation(iterations=4)\n",
    "```\n",
    "\n",
    "⚠️ **The original code cells remain below for reference, but use the organized functions from the Sage file for new work.**\n"
   ]
  },
  {
   "cell_type": "markdown",
   "id": "0ed66015-af7f-493b-9c60-8b042acdd3cc",
   "metadata": {},
   "source": [
    " "
   ]
  },
  {
   "cell_type": "code",
   "execution_count": 1,
   "id": "6927cc88-ce7d-4d56-a220-ba3260fa70b4",
   "metadata": {},
   "outputs": [
    {
     "ename": "TypeError",
     "evalue": "unable to start magma because the command 'magma -n' failed: The command was not found or was not executable: magma.\n",
     "output_type": "error",
     "traceback": [
      "\u001b[0;31m---------------------------------------------------------------------------\u001b[0m",
      "\u001b[0;31mExceptionPexpect\u001b[0m                          Traceback (most recent call last)",
      "File \u001b[0;32m~/gitclones/sage/src/sage/interfaces/expect.py:515\u001b[0m, in \u001b[0;36mExpect._start\u001b[0;34m(self, alt_message, block_during_init)\u001b[0m\n\u001b[1;32m    514\u001b[0m \u001b[38;5;28;01mtry\u001b[39;00m:\n\u001b[0;32m--> 515\u001b[0m     \u001b[38;5;28mself\u001b[39m\u001b[38;5;241m.\u001b[39m_expect \u001b[38;5;241m=\u001b[39m \u001b[41mSageSpawn\u001b[49m\u001b[41m(\u001b[49m\u001b[41mcmd\u001b[49m\u001b[41m,\u001b[49m\n\u001b[1;32m    516\u001b[0m \u001b[41m            \u001b[49m\u001b[41mlogfile\u001b[49m\u001b[38;5;241;41m=\u001b[39;49m\u001b[38;5;28;41mself\u001b[39;49m\u001b[38;5;241;41m.\u001b[39;49m\u001b[41m__logfile\u001b[49m\u001b[41m,\u001b[49m\n\u001b[1;32m    517\u001b[0m \u001b[41m            \u001b[49m\u001b[41mtimeout\u001b[49m\u001b[38;5;241;41m=\u001b[39;49m\u001b[38;5;28;41;01mNone\u001b[39;49;00m\u001b[41m,\u001b[49m\u001b[41m  \u001b[49m\u001b[38;5;66;41;03m# no timeout\u001b[39;49;00m\n\u001b[1;32m    518\u001b[0m \u001b[41m            \u001b[49m\u001b[41menv\u001b[49m\u001b[38;5;241;41m=\u001b[39;49m\u001b[41mpexpect_env\u001b[49m\u001b[41m,\u001b[49m\n\u001b[1;32m    519\u001b[0m \u001b[41m            \u001b[49m\u001b[41mname\u001b[49m\u001b[38;5;241;41m=\u001b[39;49m\u001b[38;5;28;41mself\u001b[39;49m\u001b[38;5;241;41m.\u001b[39;49m\u001b[41m_repr_\u001b[49m\u001b[41m(\u001b[49m\u001b[41m)\u001b[49m\u001b[41m,\u001b[49m\n\u001b[1;32m    520\u001b[0m \u001b[41m            \u001b[49m\u001b[41mecho\u001b[49m\u001b[38;5;241;41m=\u001b[39;49m\u001b[38;5;28;41mself\u001b[39;49m\u001b[38;5;241;41m.\u001b[39;49m\u001b[41m_terminal_echo\u001b[49m\u001b[41m,\u001b[49m\n\u001b[1;32m    521\u001b[0m \u001b[41m            \u001b[49m\u001b[38;5;66;41;03m# Work around https://bugs.python.org/issue1652\u001b[39;49;00m\n\u001b[1;32m    522\u001b[0m \u001b[41m            \u001b[49m\u001b[41mpreexec_fn\u001b[49m\u001b[38;5;241;41m=\u001b[39;49m\u001b[38;5;28;41;01mlambda\u001b[39;49;00m\u001b[41m:\u001b[49m\u001b[41m \u001b[49m\u001b[41msignal\u001b[49m\u001b[38;5;241;41m.\u001b[39;49m\u001b[41msignal\u001b[49m\u001b[41m(\u001b[49m\u001b[41msignal\u001b[49m\u001b[38;5;241;41m.\u001b[39;49m\u001b[41mSIGPIPE\u001b[49m\u001b[41m,\u001b[49m\u001b[41m \u001b[49m\u001b[41msignal\u001b[49m\u001b[38;5;241;41m.\u001b[39;49m\u001b[41mSIG_DFL\u001b[49m\u001b[41m)\u001b[49m\u001b[41m,\u001b[49m\n\u001b[1;32m    523\u001b[0m \u001b[41m            \u001b[49m\u001b[41mquit_string\u001b[49m\u001b[38;5;241;41m=\u001b[39;49m\u001b[38;5;28;41mself\u001b[39;49m\u001b[38;5;241;41m.\u001b[39;49m\u001b[41m_quit_string\u001b[49m\u001b[41m(\u001b[49m\u001b[41m)\u001b[49m\u001b[41m)\u001b[49m\n\u001b[1;32m    525\u001b[0m     \u001b[38;5;66;03m# Attempt to shutdown the running process gracefully\u001b[39;00m\n\u001b[1;32m    526\u001b[0m     \u001b[38;5;66;03m# when sage terminates.\u001b[39;00m\n",
      "File \u001b[0;32m~/gitclones/sage/src/sage/interfaces/sagespawn.pyx:66\u001b[0m, in \u001b[0;36msage.interfaces.sagespawn.SageSpawn.__init__\u001b[0;34m()\u001b[0m\n\u001b[1;32m     65\u001b[0m \n\u001b[0;32m---> 66\u001b[0m         with ContainChildren(silent=True):\n\u001b[1;32m     67\u001b[0m             spawn.__init__(self, *args, **kwds)\n",
      "File \u001b[0;32m~/gitclones/sage/src/sage/interfaces/sagespawn.pyx:67\u001b[0m, in \u001b[0;36msage.interfaces.sagespawn.SageSpawn.__init__\u001b[0;34m()\u001b[0m\n\u001b[1;32m     66\u001b[0m with ContainChildren(silent=True):\n\u001b[0;32m---> 67\u001b[0m     spawn.__init__(self, *args, **kwds)\n\u001b[1;32m     68\u001b[0m \n",
      "File \u001b[0;32m~/gitclones/sage/local/var/lib/sage/venv-python3.11.1/lib/python3.11/site-packages/pexpect/pty_spawn.py:205\u001b[0m, in \u001b[0;36mspawn.__init__\u001b[0;34m(self, command, args, timeout, maxread, searchwindowsize, logfile, cwd, env, ignore_sighup, echo, preexec_fn, encoding, codec_errors, dimensions, use_poll)\u001b[0m\n\u001b[1;32m    204\u001b[0m \u001b[38;5;28;01melse\u001b[39;00m:\n\u001b[0;32m--> 205\u001b[0m     \u001b[38;5;28;41mself\u001b[39;49m\u001b[38;5;241;41m.\u001b[39;49m\u001b[41m_spawn\u001b[49m\u001b[41m(\u001b[49m\u001b[41mcommand\u001b[49m\u001b[41m,\u001b[49m\u001b[41m \u001b[49m\u001b[41margs\u001b[49m\u001b[41m,\u001b[49m\u001b[41m \u001b[49m\u001b[41mpreexec_fn\u001b[49m\u001b[41m,\u001b[49m\u001b[41m \u001b[49m\u001b[41mdimensions\u001b[49m\u001b[41m)\u001b[49m\n\u001b[1;32m    206\u001b[0m \u001b[38;5;28mself\u001b[39m\u001b[38;5;241m.\u001b[39muse_poll \u001b[38;5;241m=\u001b[39m use_poll\n",
      "File \u001b[0;32m~/gitclones/sage/local/var/lib/sage/venv-python3.11.1/lib/python3.11/site-packages/pexpect/pty_spawn.py:276\u001b[0m, in \u001b[0;36mspawn._spawn\u001b[0;34m(self, command, args, preexec_fn, dimensions)\u001b[0m\n\u001b[1;32m    275\u001b[0m \u001b[38;5;28;01mif\u001b[39;00m command_with_path \u001b[38;5;129;01mis\u001b[39;00m \u001b[38;5;28;01mNone\u001b[39;00m:\n\u001b[0;32m--> 276\u001b[0m     \u001b[38;5;28;01mraise\u001b[39;00m ExceptionPexpect(\u001b[38;5;124m'\u001b[39m\u001b[38;5;124mThe command was not found or was not \u001b[39m\u001b[38;5;124m'\u001b[39m \u001b[38;5;241m+\u001b[39m\n\u001b[1;32m    277\u001b[0m             \u001b[38;5;124m'\u001b[39m\u001b[38;5;124mexecutable: \u001b[39m\u001b[38;5;132;01m%s\u001b[39;00m\u001b[38;5;124m.\u001b[39m\u001b[38;5;124m'\u001b[39m \u001b[38;5;241m%\u001b[39m \u001b[38;5;28mself\u001b[39m\u001b[38;5;241m.\u001b[39mcommand)\n\u001b[1;32m    278\u001b[0m \u001b[38;5;28mself\u001b[39m\u001b[38;5;241m.\u001b[39mcommand \u001b[38;5;241m=\u001b[39m command_with_path\n",
      "\u001b[0;31mExceptionPexpect\u001b[0m: The command was not found or was not executable: magma.",
      "\nDuring handling of the above exception, another exception occurred:\n",
      "\u001b[0;31mRuntimeError\u001b[0m                              Traceback (most recent call last)",
      "File \u001b[0;32m~/gitclones/sage/src/sage/interfaces/expect.py:1520\u001b[0m, in \u001b[0;36mExpectElement.__init__\u001b[0;34m(self, parent, value, is_name, name)\u001b[0m\n\u001b[1;32m   1519\u001b[0m \u001b[38;5;28;01mtry\u001b[39;00m:\n\u001b[0;32m-> 1520\u001b[0m     \u001b[38;5;28mself\u001b[39m\u001b[38;5;241m.\u001b[39m_name \u001b[38;5;241m=\u001b[39m \u001b[41mparent\u001b[49m\u001b[38;5;241;41m.\u001b[39;49m\u001b[41m_create\u001b[49m\u001b[41m(\u001b[49m\u001b[41mvalue\u001b[49m\u001b[41m,\u001b[49m\u001b[41m \u001b[49m\u001b[41mname\u001b[49m\u001b[38;5;241;41m=\u001b[39;49m\u001b[41mname\u001b[49m\u001b[41m)\u001b[49m\n\u001b[1;32m   1521\u001b[0m \u001b[38;5;66;03m# Convert ValueError and RuntimeError to TypeError for\u001b[39;00m\n\u001b[1;32m   1522\u001b[0m \u001b[38;5;66;03m# coercion to work properly.\u001b[39;00m\n",
      "File \u001b[0;32m~/gitclones/sage/src/sage/interfaces/interface.py:516\u001b[0m, in \u001b[0;36mInterface._create\u001b[0;34m(self, value, name)\u001b[0m\n\u001b[1;32m    515\u001b[0m \u001b[38;5;28;01mdef\u001b[39;00m \u001b[38;5;21m_create\u001b[39m(\u001b[38;5;28mself\u001b[39m, value, name\u001b[38;5;241m=\u001b[39m\u001b[38;5;28;01mNone\u001b[39;00m):\n\u001b[0;32m--> 516\u001b[0m     name \u001b[38;5;241m=\u001b[39m \u001b[38;5;28;41mself\u001b[39;49m\u001b[38;5;241;41m.\u001b[39;49m\u001b[41m_next_var_name\u001b[49m\u001b[41m(\u001b[49m\u001b[41m)\u001b[49m \u001b[38;5;28;01mif\u001b[39;00m name \u001b[38;5;129;01mis\u001b[39;00m \u001b[38;5;28;01mNone\u001b[39;00m \u001b[38;5;28;01melse\u001b[39;00m name\n\u001b[1;32m    517\u001b[0m     \u001b[38;5;28mself\u001b[39m\u001b[38;5;241m.\u001b[39mset(name, value)\n",
      "File \u001b[0;32m~/gitclones/sage/src/sage/interfaces/magma.py:1085\u001b[0m, in \u001b[0;36mMagma._next_var_name\u001b[0;34m(self)\u001b[0m\n\u001b[1;32m   1084\u001b[0m \u001b[38;5;28;01mif\u001b[39;00m \u001b[38;5;28mself\u001b[39m\u001b[38;5;241m.\u001b[39m__seq \u001b[38;5;241m==\u001b[39m \u001b[38;5;241m0\u001b[39m:\n\u001b[0;32m-> 1085\u001b[0m     \u001b[38;5;28;41mself\u001b[39;49m\u001b[38;5;241;41m.\u001b[39;49m\u001b[41meval\u001b[49m\u001b[41m(\u001b[49m\u001b[38;5;124;41m'\u001b[39;49m\u001b[38;5;124;41m_sage_ := [* *];\u001b[39;49m\u001b[38;5;124;41m'\u001b[39;49m\u001b[41m)\u001b[49m\n\u001b[1;32m   1086\u001b[0m \u001b[38;5;28;01melse\u001b[39;00m:\n",
      "File \u001b[0;32m~/gitclones/sage/src/sage/interfaces/magma.py:560\u001b[0m, in \u001b[0;36mMagma.eval\u001b[0;34m(self, x, strip, **kwds)\u001b[0m\n\u001b[1;32m    559\u001b[0m     x \u001b[38;5;241m+\u001b[39m\u001b[38;5;241m=\u001b[39m \u001b[38;5;124m'\u001b[39m\u001b[38;5;124m;\u001b[39m\u001b[38;5;124m'\u001b[39m\n\u001b[0;32m--> 560\u001b[0m ans \u001b[38;5;241m=\u001b[39m \u001b[41mExpect\u001b[49m\u001b[38;5;241;41m.\u001b[39;49m\u001b[41meval\u001b[49m\u001b[41m(\u001b[49m\u001b[38;5;28;41mself\u001b[39;49m\u001b[41m,\u001b[49m\u001b[41m \u001b[49m\u001b[41mx\u001b[49m\u001b[41m,\u001b[49m\u001b[41m \u001b[49m\u001b[38;5;241;41m*\u001b[39;49m\u001b[38;5;241;41m*\u001b[39;49m\u001b[41mkwds\u001b[49m\u001b[41m)\u001b[49m\u001b[38;5;241m.\u001b[39mreplace(\u001b[38;5;124m'\u001b[39m\u001b[38;5;130;01m\\\\\u001b[39;00m\u001b[38;5;130;01m\\n\u001b[39;00m\u001b[38;5;124m'\u001b[39m, \u001b[38;5;124m'\u001b[39m\u001b[38;5;124m'\u001b[39m)\n\u001b[1;32m    561\u001b[0m \u001b[38;5;28;01mif\u001b[39;00m \u001b[38;5;124m'\u001b[39m\u001b[38;5;124mRuntime error\u001b[39m\u001b[38;5;124m'\u001b[39m \u001b[38;5;129;01min\u001b[39;00m ans \u001b[38;5;129;01mor\u001b[39;00m \u001b[38;5;124m'\u001b[39m\u001b[38;5;124mUser error\u001b[39m\u001b[38;5;124m'\u001b[39m \u001b[38;5;129;01min\u001b[39;00m ans:\n",
      "File \u001b[0;32m~/gitclones/sage/src/sage/interfaces/expect.py:1414\u001b[0m, in \u001b[0;36mExpect.eval\u001b[0;34m(self, code, strip, synchronize, locals, allow_use_file, split_lines, **kwds)\u001b[0m\n\u001b[1;32m   1413\u001b[0m \u001b[38;5;28;01melif\u001b[39;00m split_lines:\n\u001b[0;32m-> 1414\u001b[0m     \u001b[38;5;28;01mreturn\u001b[39;00m \u001b[38;5;124;41m'\u001b[39;49m\u001b[38;5;130;41;01m\\n\u001b[39;49;00m\u001b[38;5;124;41m'\u001b[39;49m\u001b[38;5;241;41m.\u001b[39;49m\u001b[41mjoin\u001b[49m\u001b[41m(\u001b[49m\u001b[38;5;28;41mself\u001b[39;49m\u001b[38;5;241;41m.\u001b[39;49m\u001b[41m_eval_line\u001b[49m\u001b[41m(\u001b[49m\u001b[41mL\u001b[49m\u001b[41m,\u001b[49m\u001b[41m \u001b[49m\u001b[41mallow_use_file\u001b[49m\u001b[38;5;241;41m=\u001b[39;49m\u001b[41mallow_use_file\u001b[49m\u001b[41m,\u001b[49m\u001b[41m \u001b[49m\u001b[38;5;241;41m*\u001b[39;49m\u001b[38;5;241;41m*\u001b[39;49m\u001b[41mkwds\u001b[49m\u001b[41m)\u001b[49m\n\u001b[1;32m   1415\u001b[0m \u001b[41m                     \u001b[49m\u001b[38;5;28;41;01mfor\u001b[39;49;00m\u001b[41m \u001b[49m\u001b[41mL\u001b[49m\u001b[41m \u001b[49m\u001b[38;5;129;41;01min\u001b[39;49;00m\u001b[41m \u001b[49m\u001b[41mcode\u001b[49m\u001b[38;5;241;41m.\u001b[39;49m\u001b[41msplit\u001b[49m\u001b[41m(\u001b[49m\u001b[38;5;124;41m'\u001b[39;49m\u001b[38;5;130;41;01m\\n\u001b[39;49;00m\u001b[38;5;124;41m'\u001b[39;49m\u001b[41m)\u001b[49m\u001b[41m \u001b[49m\u001b[38;5;28;41;01mif\u001b[39;49;00m\u001b[41m \u001b[49m\u001b[41mL\u001b[49m\u001b[41m)\u001b[49m\n\u001b[1;32m   1416\u001b[0m \u001b[38;5;28;01melse\u001b[39;00m:\n",
      "File \u001b[0;32m~/gitclones/sage/src/sage/interfaces/expect.py:1414\u001b[0m, in \u001b[0;36m<genexpr>\u001b[0;34m(.0)\u001b[0m\n\u001b[1;32m   1413\u001b[0m \u001b[38;5;28;01melif\u001b[39;00m split_lines:\n\u001b[0;32m-> 1414\u001b[0m     \u001b[38;5;28;01mreturn\u001b[39;00m \u001b[38;5;124m'\u001b[39m\u001b[38;5;130;01m\\n\u001b[39;00m\u001b[38;5;124m'\u001b[39m\u001b[38;5;241m.\u001b[39mjoin(\u001b[38;5;28;41mself\u001b[39;49m\u001b[38;5;241;41m.\u001b[39;49m\u001b[41m_eval_line\u001b[49m\u001b[41m(\u001b[49m\u001b[41mL\u001b[49m\u001b[41m,\u001b[49m\u001b[41m \u001b[49m\u001b[41mallow_use_file\u001b[49m\u001b[38;5;241;41m=\u001b[39;49m\u001b[41mallow_use_file\u001b[49m\u001b[41m,\u001b[49m\u001b[41m \u001b[49m\u001b[38;5;241;41m*\u001b[39;49m\u001b[38;5;241;41m*\u001b[39;49m\u001b[41mkwds\u001b[49m\u001b[41m)\u001b[49m\n\u001b[1;32m   1415\u001b[0m                      \u001b[38;5;28;01mfor\u001b[39;00m L \u001b[38;5;129;01min\u001b[39;00m code\u001b[38;5;241m.\u001b[39msplit(\u001b[38;5;124m'\u001b[39m\u001b[38;5;130;01m\\n\u001b[39;00m\u001b[38;5;124m'\u001b[39m) \u001b[38;5;28;01mif\u001b[39;00m L)\n\u001b[1;32m   1416\u001b[0m \u001b[38;5;28;01melse\u001b[39;00m:\n",
      "File \u001b[0;32m~/gitclones/sage/src/sage/interfaces/expect.py:992\u001b[0m, in \u001b[0;36mExpect._eval_line\u001b[0;34m(self, line, allow_use_file, wait_for_prompt, restart_if_needed)\u001b[0m\n\u001b[1;32m    991\u001b[0m \u001b[38;5;28;01mif\u001b[39;00m \u001b[38;5;28mself\u001b[39m\u001b[38;5;241m.\u001b[39m_expect \u001b[38;5;129;01mis\u001b[39;00m \u001b[38;5;28;01mNone\u001b[39;00m:\n\u001b[0;32m--> 992\u001b[0m     \u001b[38;5;28;41mself\u001b[39;49m\u001b[38;5;241;41m.\u001b[39;49m\u001b[41m_start\u001b[49m\u001b[41m(\u001b[49m\u001b[41m)\u001b[49m\n\u001b[1;32m    993\u001b[0m E \u001b[38;5;241m=\u001b[39m \u001b[38;5;28mself\u001b[39m\u001b[38;5;241m.\u001b[39m_expect\n",
      "File \u001b[0;32m~/gitclones/sage/src/sage/interfaces/magma.py:601\u001b[0m, in \u001b[0;36mMagma._start\u001b[0;34m(self)\u001b[0m\n\u001b[1;32m    600\u001b[0m \u001b[38;5;28mself\u001b[39m\u001b[38;5;241m.\u001b[39m_change_prompt(\u001b[38;5;124m'\u001b[39m\u001b[38;5;124m>\u001b[39m\u001b[38;5;124m'\u001b[39m)\n\u001b[0;32m--> 601\u001b[0m \u001b[41mExpect\u001b[49m\u001b[38;5;241;41m.\u001b[39;49m\u001b[41m_start\u001b[49m\u001b[41m(\u001b[49m\u001b[38;5;28;41mself\u001b[39;49m\u001b[41m)\u001b[49m\n\u001b[1;32m    602\u001b[0m \u001b[38;5;28mself\u001b[39m\u001b[38;5;241m.\u001b[39meval(\u001b[38;5;124m'\u001b[39m\u001b[38;5;124mSetPrompt(\u001b[39m\u001b[38;5;124m\"\u001b[39m\u001b[38;5;132;01m%s\u001b[39;00m\u001b[38;5;124m\"\u001b[39m\u001b[38;5;124m); SetLineEditor(false); SetColumns(0);\u001b[39m\u001b[38;5;124m'\u001b[39m \u001b[38;5;241m%\u001b[39m PROMPT)\n",
      "File \u001b[0;32m~/gitclones/sage/src/sage/interfaces/expect.py:532\u001b[0m, in \u001b[0;36mExpect._start\u001b[0;34m(self, alt_message, block_during_init)\u001b[0m\n\u001b[1;32m    530\u001b[0m     \u001b[38;5;28;01mexcept\u001b[39;00m (ExceptionPexpect, pexpect\u001b[38;5;241m.\u001b[39mEOF) \u001b[38;5;28;01mas\u001b[39;00m e:\n\u001b[1;32m    531\u001b[0m         \u001b[38;5;66;03m# Change pexpect errors to RuntimeError\u001b[39;00m\n\u001b[0;32m--> 532\u001b[0m         \u001b[38;5;28;01mraise\u001b[39;00m \u001b[38;5;167;01mRuntimeError\u001b[39;00m(\u001b[38;5;124m\"\u001b[39m\u001b[38;5;124munable to start \u001b[39m\u001b[38;5;132;01m%s\u001b[39;00m\u001b[38;5;124m because the command \u001b[39m\u001b[38;5;132;01m%r\u001b[39;00m\u001b[38;5;124m failed: \u001b[39m\u001b[38;5;132;01m%s\u001b[39;00m\u001b[38;5;130;01m\\n\u001b[39;00m\u001b[38;5;132;01m%s\u001b[39;00m\u001b[38;5;124m\"\u001b[39m \u001b[38;5;241m%\u001b[39m\n\u001b[1;32m    533\u001b[0m                 (\u001b[38;5;28mself\u001b[39m\u001b[38;5;241m.\u001b[39mname(), cmd, e, \u001b[38;5;28mself\u001b[39m\u001b[38;5;241m.\u001b[39m_install_hints()))\n\u001b[1;32m    534\u001b[0m \u001b[38;5;28;01mexcept\u001b[39;00m \u001b[38;5;167;01mBaseException\u001b[39;00m:\n",
      "\u001b[0;31mRuntimeError\u001b[0m: unable to start magma because the command 'magma -n' failed: The command was not found or was not executable: magma.\n",
      "\nDuring handling of the above exception, another exception occurred:\n",
      "\u001b[0;31mTypeError\u001b[0m                                 Traceback (most recent call last)",
      "Cell \u001b[0;32mIn[1], line 5\u001b[0m\n\u001b[1;32m      2\u001b[0m \u001b[38;5;28;01mfrom\u001b[39;00m \u001b[38;5;21;01misometry_utils\u001b[39;00m \u001b[38;5;28;01mimport\u001b[39;00m \u001b[38;5;241m*\u001b[39m\n\u001b[1;32m      4\u001b[0m G \u001b[38;5;241m=\u001b[39m E8\u001b[38;5;241m.\u001b[39mgenus()\n\u001b[0;32m----> 5\u001b[0m \u001b[41mG\u001b[49m\u001b[38;5;241;41m.\u001b[39;49m\u001b[41mrepresentatives\u001b[49m\u001b[41m(\u001b[49m\u001b[41m)\u001b[49m\n",
      "File \u001b[0;32m~/gitclones/sage/src/sage/quadratic_forms/genera/genus.py:3060\u001b[0m, in \u001b[0;36mGenusSymbol_global_ring.representatives\u001b[0;34m(self, backend, algorithm)\u001b[0m\n\u001b[1;32m   3058\u001b[0m \u001b[38;5;28;01mif\u001b[39;00m \u001b[38;5;28mself\u001b[39m\u001b[38;5;241m.\u001b[39msignature_pair_of_matrix()[\u001b[38;5;241m1\u001b[39m] \u001b[38;5;241m!=\u001b[39m \u001b[38;5;241m0\u001b[39m:\n\u001b[1;32m   3059\u001b[0m     e \u001b[38;5;241m=\u001b[39m \u001b[38;5;241m-\u001b[39m\u001b[38;5;241m1\u001b[39m\n\u001b[0;32m-> 3060\u001b[0m K \u001b[38;5;241m=\u001b[39m \u001b[41mmagma\u001b[49m\u001b[38;5;241;41m.\u001b[39;49m\u001b[41mRationals\u001b[49m\u001b[41m(\u001b[49m\u001b[41m)\u001b[49m\n\u001b[1;32m   3061\u001b[0m gram \u001b[38;5;241m=\u001b[39m magma\u001b[38;5;241m.\u001b[39mMatrix(K, n, (e\u001b[38;5;241m*\u001b[39m\u001b[38;5;28mself\u001b[39m\u001b[38;5;241m.\u001b[39mrepresentative())\u001b[38;5;241m.\u001b[39mlist())\n\u001b[1;32m   3062\u001b[0m L \u001b[38;5;241m=\u001b[39m gram\u001b[38;5;241m.\u001b[39mLatticeWithGram()\n",
      "File \u001b[0;32m~/gitclones/sage/src/sage/interfaces/magma.py:1802\u001b[0m, in \u001b[0;36mMagmaFunction.__call__\u001b[0;34m(self, *args, **kwds)\u001b[0m\n\u001b[1;32m   1800\u001b[0m         \u001b[38;5;28;01mdel\u001b[39;00m kwds[\u001b[38;5;124m'\u001b[39m\u001b[38;5;124mnvals\u001b[39m\u001b[38;5;124m'\u001b[39m]\n\u001b[1;32m   1801\u001b[0m M \u001b[38;5;241m=\u001b[39m \u001b[38;5;28mself\u001b[39m\u001b[38;5;241m.\u001b[39m_parent\n\u001b[0;32m-> 1802\u001b[0m \u001b[38;5;28;01mreturn\u001b[39;00m \u001b[41mM\u001b[49m\u001b[38;5;241;41m.\u001b[39;49m\u001b[41mfunction_call\u001b[49m\u001b[41m(\u001b[49m\u001b[38;5;28;41mself\u001b[39;49m\u001b[38;5;241;41m.\u001b[39;49m\u001b[41m_name\u001b[49m\u001b[41m,\u001b[49m\n\u001b[1;32m   1803\u001b[0m \u001b[41m                       \u001b[49m\u001b[38;5;28;41mlist\u001b[39;49m\u001b[41m(\u001b[49m\u001b[41margs\u001b[49m\u001b[41m)\u001b[49m\u001b[41m,\u001b[49m\n\u001b[1;32m   1804\u001b[0m \u001b[41m                       \u001b[49m\u001b[41mparams\u001b[49m\u001b[38;5;241;41m=\u001b[39;49m\u001b[41mkwds\u001b[49m\u001b[41m,\u001b[49m\n\u001b[1;32m   1805\u001b[0m \u001b[41m                       \u001b[49m\u001b[41mnvals\u001b[49m\u001b[38;5;241;41m=\u001b[39;49m\u001b[41mnvals\u001b[49m\u001b[41m)\u001b[49m\n",
      "File \u001b[0;32m~/gitclones/sage/src/sage/interfaces/magma.py:1170\u001b[0m, in \u001b[0;36mMagma.function_call\u001b[0;34m(self, function, args, params, nvals)\u001b[0m\n\u001b[1;32m   1165\u001b[0m     par \u001b[38;5;241m=\u001b[39m \u001b[38;5;124m'\u001b[39m\u001b[38;5;124m : \u001b[39m\u001b[38;5;124m'\u001b[39m \u001b[38;5;241m+\u001b[39m \u001b[38;5;124m'\u001b[39m\u001b[38;5;124m,\u001b[39m\u001b[38;5;124m'\u001b[39m\u001b[38;5;241m.\u001b[39mjoin(\u001b[38;5;124m'\u001b[39m\u001b[38;5;132;01m%s\u001b[39;00m\u001b[38;5;124m:=\u001b[39m\u001b[38;5;132;01m%s\u001b[39;00m\u001b[38;5;124m'\u001b[39m \u001b[38;5;241m%\u001b[39m (a, b\u001b[38;5;241m.\u001b[39mname())\n\u001b[1;32m   1166\u001b[0m                            \u001b[38;5;28;01mfor\u001b[39;00m a, b \u001b[38;5;129;01min\u001b[39;00m params\u001b[38;5;241m.\u001b[39mitems())\n\u001b[1;32m   1168\u001b[0m fun \u001b[38;5;241m=\u001b[39m \u001b[38;5;124m\"\u001b[39m\u001b[38;5;132;01m%s\u001b[39;00m\u001b[38;5;124m(\u001b[39m\u001b[38;5;132;01m%s\u001b[39;00m\u001b[38;5;132;01m%s\u001b[39;00m\u001b[38;5;124m)\u001b[39m\u001b[38;5;124m\"\u001b[39m \u001b[38;5;241m%\u001b[39m (function, \u001b[38;5;124m\"\u001b[39m\u001b[38;5;124m,\u001b[39m\u001b[38;5;124m\"\u001b[39m\u001b[38;5;241m.\u001b[39mjoin(s\u001b[38;5;241m.\u001b[39mname() \u001b[38;5;28;01mfor\u001b[39;00m s \u001b[38;5;129;01min\u001b[39;00m args), par)\n\u001b[0;32m-> 1170\u001b[0m \u001b[38;5;28;01mreturn\u001b[39;00m \u001b[38;5;28;41mself\u001b[39;49m\u001b[38;5;241;41m.\u001b[39;49m\u001b[41m_do_call\u001b[49m\u001b[41m(\u001b[49m\u001b[41mfun\u001b[49m\u001b[41m,\u001b[49m\u001b[41m \u001b[49m\u001b[41mnvals\u001b[49m\u001b[41m)\u001b[49m\n",
      "File \u001b[0;32m~/gitclones/sage/src/sage/interfaces/magma.py:1220\u001b[0m, in \u001b[0;36mMagma._do_call\u001b[0;34m(self, code, nvals)\u001b[0m\n\u001b[1;32m   1218\u001b[0m     ans \u001b[38;5;241m=\u001b[39m \u001b[38;5;28;01mNone\u001b[39;00m\n\u001b[1;32m   1219\u001b[0m \u001b[38;5;28;01melif\u001b[39;00m nvals \u001b[38;5;241m==\u001b[39m \u001b[38;5;241m1\u001b[39m:\n\u001b[0;32m-> 1220\u001b[0m     \u001b[38;5;28;01mreturn\u001b[39;00m \u001b[38;5;28;41mself\u001b[39;49m\u001b[41m(\u001b[49m\u001b[41mcode\u001b[49m\u001b[41m)\u001b[49m\n\u001b[1;32m   1221\u001b[0m \u001b[38;5;28;01melse\u001b[39;00m:\n\u001b[1;32m   1222\u001b[0m     v \u001b[38;5;241m=\u001b[39m [\u001b[38;5;28mself\u001b[39m\u001b[38;5;241m.\u001b[39m_next_var_name() \u001b[38;5;28;01mfor\u001b[39;00m _ \u001b[38;5;129;01min\u001b[39;00m \u001b[38;5;28mrange\u001b[39m(nvals)]\n",
      "File \u001b[0;32m~/gitclones/sage/src/sage/interfaces/magma.py:797\u001b[0m, in \u001b[0;36mMagma.__call__\u001b[0;34m(self, x, gens)\u001b[0m\n\u001b[1;32m    794\u001b[0m \u001b[38;5;28;01mexcept\u001b[39;00m \u001b[38;5;167;01mTypeError\u001b[39;00m:  \u001b[38;5;66;03m# if x isn't hashable\u001b[39;00m\n\u001b[1;32m    795\u001b[0m     \u001b[38;5;28;01mpass\u001b[39;00m\n\u001b[0;32m--> 797\u001b[0m A \u001b[38;5;241m=\u001b[39m \u001b[41mExpect\u001b[49m\u001b[38;5;241;41m.\u001b[39;49m\u001b[38;5;21;41m__call__\u001b[39;49m\u001b[41m(\u001b[49m\u001b[38;5;28;41mself\u001b[39;49m\u001b[41m,\u001b[49m\u001b[41m \u001b[49m\u001b[41mx\u001b[49m\u001b[41m)\u001b[49m\n\u001b[1;32m    798\u001b[0m \u001b[38;5;28;01mif\u001b[39;00m has_cache:\n\u001b[1;32m    799\u001b[0m     x\u001b[38;5;241m.\u001b[39m_magma_cache[\u001b[38;5;28mself\u001b[39m] \u001b[38;5;241m=\u001b[39m A\n",
      "File \u001b[0;32m~/gitclones/sage/src/sage/interfaces/interface.py:299\u001b[0m, in \u001b[0;36mInterface.__call__\u001b[0;34m(self, x, name)\u001b[0m\n\u001b[1;32m    296\u001b[0m         \u001b[38;5;28;01mpass\u001b[39;00m\n\u001b[1;32m    298\u001b[0m \u001b[38;5;28;01mif\u001b[39;00m \u001b[38;5;28misinstance\u001b[39m(x, \u001b[38;5;28mstr\u001b[39m):\n\u001b[0;32m--> 299\u001b[0m     \u001b[38;5;28;01mreturn\u001b[39;00m \u001b[38;5;28;41mcls\u001b[39;49m\u001b[41m(\u001b[49m\u001b[38;5;28;41mself\u001b[39;49m\u001b[41m,\u001b[49m\u001b[41m \u001b[49m\u001b[41mx\u001b[49m\u001b[41m,\u001b[49m\u001b[41m \u001b[49m\u001b[41mname\u001b[49m\u001b[38;5;241;41m=\u001b[39;49m\u001b[41mname\u001b[49m\u001b[41m)\u001b[49m\n\u001b[1;32m    300\u001b[0m \u001b[38;5;28;01mtry\u001b[39;00m:\n\u001b[1;32m    301\u001b[0m     \u001b[38;5;66;03m# Special methods do not and should not have an option to\u001b[39;00m\n\u001b[1;32m    302\u001b[0m     \u001b[38;5;66;03m# set the name directly, as the identifier assigned by the\u001b[39;00m\n\u001b[1;32m    303\u001b[0m     \u001b[38;5;66;03m# interface should stay consistent. An identifier with a\u001b[39;00m\n\u001b[1;32m    304\u001b[0m     \u001b[38;5;66;03m# user-assigned name might change its value, so we return a\u001b[39;00m\n\u001b[1;32m    305\u001b[0m     \u001b[38;5;66;03m# new element.\u001b[39;00m\n\u001b[1;32m    306\u001b[0m     result \u001b[38;5;241m=\u001b[39m \u001b[38;5;28mself\u001b[39m\u001b[38;5;241m.\u001b[39m_coerce_from_special_method(x)\n",
      "File \u001b[0;32m~/gitclones/sage/src/sage/interfaces/expect.py:1525\u001b[0m, in \u001b[0;36mExpectElement.__init__\u001b[0;34m(self, parent, value, is_name, name)\u001b[0m\n\u001b[1;32m   1523\u001b[0m \u001b[38;5;28;01mexcept\u001b[39;00m (\u001b[38;5;167;01mRuntimeError\u001b[39;00m, \u001b[38;5;167;01mValueError\u001b[39;00m) \u001b[38;5;28;01mas\u001b[39;00m x:\n\u001b[1;32m   1524\u001b[0m     \u001b[38;5;28mself\u001b[39m\u001b[38;5;241m.\u001b[39m_session_number \u001b[38;5;241m=\u001b[39m \u001b[38;5;241m-\u001b[39m\u001b[38;5;241m1\u001b[39m\n\u001b[0;32m-> 1525\u001b[0m     \u001b[38;5;28;01mraise\u001b[39;00m \u001b[38;5;167;01mTypeError\u001b[39;00m(\u001b[38;5;241m*\u001b[39mx\u001b[38;5;241m.\u001b[39margs)\n\u001b[1;32m   1526\u001b[0m \u001b[38;5;28;01mexcept\u001b[39;00m \u001b[38;5;167;01mBaseException\u001b[39;00m:\n\u001b[1;32m   1527\u001b[0m     \u001b[38;5;28mself\u001b[39m\u001b[38;5;241m.\u001b[39m_session_number \u001b[38;5;241m=\u001b[39m \u001b[38;5;241m-\u001b[39m\u001b[38;5;241m1\u001b[39m\n",
      "\u001b[0;31mTypeError\u001b[0m: unable to start magma because the command 'magma -n' failed: The command was not found or was not executable: magma.\n"
     ]
    }
   ],
   "source": [
    "# Import all Coxeter diagram functions and utilities\n",
    "from isometry_utils import *\n",
    "\n",
    "G = E8.genus()\n",
    "G.representatives()"
   ]
  },
  {
   "cell_type": "code",
   "execution_count": null,
   "id": "ba0d699e-7dfc-47c2-b37e-0811e4d7aaee",
   "metadata": {},
   "outputs": [],
   "source": [
    "As = [A1, ..., A20]\n",
    "Ds = [D2, ..., D20]\n",
    "Es = [E6, E7, E8]\n",
    "\n",
    "As2 = [x.twist(2) for x in As]\n",
    "Ds2 = [x.twist(2) for x in Ds]\n",
    "Es2 = [x.twist(2) for x in Es]\n",
    "\n",
    "n = 20 + 1\n",
    "IPQs = [IPQ(p, q) for p in range(n) for q in range(n) if not (p == 0 and q == 0)]\n",
    "IIPQs = [\n",
    "    IIPQ(p, q)\n",
    "    for p in range(n)\n",
    "    for q in range(n)\n",
    "    if not (p == 0 and q == 0) and p - q % 8 == 0\n",
    "]\n",
    "\n",
    "IPQs2 = [x.twist(2) for x in IPQs]\n",
    "IIPQs2 = [x.twist(2) for x in IIPQs]\n",
    "\n",
    "AllLats = As + Ds + Es + As2 + Ds2 + Es2 + IPQs + IIPQs + IPQs2 + IIPQs2\n",
    "len(AllLats)"
   ]
  },
  {
   "cell_type": "code",
   "execution_count": null,
   "id": "b12e2b70-a806-4546-be8c-d29d391c432a",
   "metadata": {},
   "outputs": [],
   "source": [
    "from collections import defaultdict\n",
    "\n",
    "lat_lookup = defaultdict(list)\n",
    "\n",
    "for L in AllLats:\n",
    "    (p, q) = L.signature_pair()\n",
    "    lat_lookup[(p, q)].append(L)\n",
    "\n",
    "sigs = Set(lat_lookup.keys())\n",
    "sigs[0:10]"
   ]
  },
  {
   "cell_type": "code",
   "execution_count": null,
   "id": "f848be09-f7ef-41bd-9421-4db84f820bac",
   "metadata": {},
   "outputs": [],
   "source": [
    "p = 3\n",
    "q = 5\n",
    "\n",
    "print(len(sigs))\n",
    "ok_sigs = list(filter(lambda x: x[0] <= p and x[1] <= q and x[0] + x[1] <= p + q, sigs))\n",
    "print(len(ok_sigs))\n",
    "\n",
    "\n",
    "def sumset(s):\n",
    "    return reduce(lambda x, y: (x[0] + y[0], x[1] + y[1]), s)\n",
    "\n",
    "\n",
    "sub_sigs = Subsets(ok_sigs)\n",
    "print(sub_sigs.cardinality().factor())\n",
    "\n",
    "correct_sigs = [s for s in sub_sigs if not s.is_empty() and sumset(s) == (p, q)]\n",
    "\n",
    "Set(correct_sigs).cardinality().factor()"
   ]
  },
  {
   "cell_type": "code",
   "execution_count": null,
   "id": "7de46636-f956-461b-b2a5-f48718d1470a",
   "metadata": {},
   "outputs": [],
   "source": [
    "L = A1.twist(-2) ** 3 @ D5\n",
    "L\n",
    "# Set(correct_sigs).cardinality().factor()"
   ]
  },
  {
   "cell_type": "code",
   "execution_count": null,
   "id": "891b5590-a61d-4f7e-b313-f2fdd9118aaa",
   "metadata": {},
   "outputs": [],
   "source": [
    "correct_sigs"
   ]
  },
  {
   "cell_type": "code",
   "execution_count": null,
   "id": "eca8b7ce-b986-427a-a50b-d09ed170e125",
   "metadata": {},
   "outputs": [],
   "source": [
    "# for sigs in correct_sigs[0:5]:\n",
    "#     all_possibilities = list( itertools.product( *[ lat_lookup[sig] for sig in sigs] ) )\n",
    "#     for s in all_possibilities:\n",
    "#         L_pos = reduce( lambda a,b: a.direct_sum(b), s )\n",
    "#         if L_pos.is_isometric(L):\n",
    "#             print(\"Found isometry: \")\n",
    "#             show(L)\n",
    "#             break"
   ]
  },
  {
   "cell_type": "code",
   "execution_count": null,
   "id": "e8d89691",
   "metadata": {},
   "outputs": [],
   "source": [
    "# All analysis functions and CoxeterGraph class are now imported from isometry_utils.py\n",
    "# This includes: is_elliptic_matrix, is_parabolic_matrix, is_elliptic_subgraph,\n",
    "# is_parabolic_subgraph, init_coxeter_colors, get_coxeter_label_connected,\n",
    "# CoxeterGraph class with all methods (including to_tikz_labeled), m_lookup table, etc.\n"
   ]
  },
  {
   "cell_type": "code",
   "execution_count": 1,
   "id": "25d59a22-130c-4c7c-a81f-b9ac9afc771a",
   "metadata": {},
   "outputs": [],
   "source": [
    "# All Dynkin diagram and Coxeter graph functions are now imported from isometry_utils.py\n",
    "# This includes: matrix_to_graph, graph_to_matrix, all A/B/C/D/E/F/G/H type functions,\n",
    "# affine types (tilde functions), classification functions, and the CoxeterGraph class"
   ]
  },
  {
   "cell_type": "code",
   "execution_count": null,
   "id": "ddba3ae7-10c4-4b6e-9212-b99941ce19cf",
   "metadata": {},
   "outputs": [],
   "source": [
    "# All analysis functions and CoxeterGraph class are now imported from isometry_utils.py\n",
    "# This includes: is_elliptic_matrix, is_parabolic_matrix, is_elliptic_subgraph,\n",
    "# is_parabolic_subgraph, init_coxeter_colors, get_coxeter_label_connected,\n",
    "# CoxeterGraph class with all methods (including to_tikz_labeled), m_lookup table, etc.\n",
    "\n",
    "\n",
    "# [(m, cos(pi/(m+2))) for m in [0..10]]\n",
    "# gij -> m\n",
    "m_lookup = {\n",
    "    0: 2,\n",
    "    1 / 2: 3,\n",
    "    1 / sqrt(2): 4,\n",
    "    sqrt(3) / 2: 6,\n",
    "    1: Infinity,\n",
    "}\n",
    "\n",
    "# Subsets have  X.lattice()                                                           # needs sage.combinat sage.graphs+"
   ]
  },
  {
   "cell_type": "code",
   "execution_count": null,
   "id": "788e9918-6e96-41f3-9845-f59b0fe1ab5b",
   "metadata": {},
   "outputs": [],
   "source": [
    "show([TEn.q(x) for x in sterks2])\n"
   ]
  },
  {
   "cell_type": "code",
   "execution_count": null,
   "id": "9075ceae-2cd3-481b-8c39-f3fd35989a2f",
   "metadata": {},
   "outputs": [],
   "source": [
    "G = TEn.gram_matrix()\n",
    "Ginv = G.inverse()\n",
    "\n",
    "e, f, ep, fp, a1, a2, a3, a4, a5, a6, a7, a8 = TEn.basis()\n",
    "ed, fd, epd, fpd, a1d, a2d, a3d, a4d, a5d, a6d, a7d, a8d = (2 * Ginv).columns()\n",
    "\n",
    "a9 = fp - ep\n",
    "a10 = a8d + 2 * ep\n",
    "a11 = 2 * ep + 2 * fp + a1d + a8d\n",
    "a12 = a12 = 5 * ep + 3 * fp + 2 * a2d\n",
    "sterks1 = [a1, a3, a4, a5, a6, a7, a8, a11, a10, a9, a12, a2]\n",
    "\n",
    "# a9 = a8d + 2*f\n",
    "# a10 = e-f\n",
    "# sterks2 = [a1, ..., a10]\n",
    "\n",
    "M = TEn.sub_gram_matrix(sterks1)\n",
    "\n",
    "s1_pos = {\n",
    "    0: [0, 0],\n",
    "    1: [4, 0],\n",
    "    2: [8, 0],\n",
    "    3: [8, -4],\n",
    "    4: [8, -8],\n",
    "    5: [4, -8],\n",
    "    6: [0, -8],\n",
    "    7: [0, -4],\n",
    "    8: [2, -6],\n",
    "    9: [3.25, -4.75],\n",
    "    10: [4.5, -3.5],\n",
    "    11: [6, -2],\n",
    "}\n",
    "\n",
    "s2_pos = {\n",
    "    0: [0, 0],\n",
    "    2: [-4, 0],\n",
    "    3: [-8, 0],\n",
    "    4: [-7, 4],\n",
    "    5: [-6, 8],\n",
    "    6: [-5, 12],\n",
    "    7: [-4, 16],\n",
    "    8: [-3, 20],\n",
    "    9: [-2, 24],\n",
    "    1: [-2, 6],\n",
    "}\n",
    "\n",
    "G2 = CoxeterGraph(\n",
    "    TEn.sub_gram_matrix(sterks2),\n",
    "    pos=s2_pos,\n",
    "    tex_title=\"Sterk 2\",\n",
    "    tikz_options={\n",
    "        \"scale\": 1,\n",
    "        \"graphviz_scale\": 0.2,\n",
    "        \"graphviz_width\": 0.15,\n",
    "        \"scale_factor\": 50,\n",
    "        \"scale_factor_labels\": 50,\n",
    "        \"fontsize\": 30,\n",
    "        \"tex_font_size\": \"Large\",\n",
    "        \"edge_width\": 1.2,\n",
    "        \"node_size\": \"0.5cm\",\n",
    "    },\n",
    ")\n",
    "\n",
    "G1 = CoxeterGraph(\n",
    "    TEn.sub_gram_matrix(sterks1),\n",
    "    pos=s1_pos,\n",
    "    tex_title=\"Sterk 1\",\n",
    "    tikz_options={\n",
    "        \"scale\": 2,\n",
    "        \"graphviz_scale\": 0.2,\n",
    "        \"graphviz_width\": 0.15,\n",
    "        \"scale_factor\": 50,\n",
    "        \"scale_factor_labels\": 53,\n",
    "        \"fontsize\": 22,\n",
    "        \"tex_font_size\": \"tiny\",\n",
    "        \"edge_width\": 1.2,\n",
    "        \"node_size\": \"0.5cm\",\n",
    "    },\n",
    ")\n",
    "\n",
    "\n",
    "subgraphs = G1.orbits_of_subgraphs(representatives_only=True)\n",
    "show(len(subgraphs))\n",
    "\n",
    "# ell_subgraphs = G1.orbits_of_elliptic_subgraphs(fast=False)\n",
    "# show(len(ell_subgraphs))\n",
    "\n",
    "parab_subgraphs = G1.get_parabolic_subgraphs()\n",
    "show(len(parab_subgraphs))\n",
    "\n",
    "parab_subgraph_orbits = G1.orbits_of_parabolic_subgraphs()\n",
    "show(len(parab_subgraph_orbits))\n",
    "\n",
    "# show( G1.plot() )\n",
    "# show( G2.plot() )"
   ]
  },
  {
   "cell_type": "code",
   "execution_count": null,
   "id": "b7e1e245-93ac-4adb-9880-3011258dddda",
   "metadata": {},
   "outputs": [],
   "source": [
    "print(all([is_elliptic_matrix(H.gram_matrix) for H in G1.get_elliptic_subgraphs()]))\n",
    "print(all([is_parabolic_matrix(H.gram_matrix) for H in G1.get_parabolic_subgraphs()]))\n",
    "print(\n",
    "    all(\n",
    "        [is_parabolic_matrix(H.gram_matrix) for H in G1.orbits_of_parabolic_subgraphs()]\n",
    "    )\n",
    ")"
   ]
  },
  {
   "cell_type": "code",
   "execution_count": null,
   "id": "b4d7a291-5ba2-4619-8eae-211646bb8e0f",
   "metadata": {},
   "outputs": [],
   "source": [
    "# H = G1.get_random_subgraph(graph_type=\"Parabolic\")\n",
    "show(H.plot())\n",
    "# print( H.to_dotfile() )\n",
    "\n",
    "# H.gram_matrix\n",
    "# for i in [1..30]:\n",
    "#     show( G1.get_random_subgraph(graph_type=\"Elliptic\").plot() )\n",
    "is_parabolic_matrix(H.gram_matrix)\n",
    "show(H.connected_components())\n",
    "\n",
    "M1 = G1.subgraph([0, 1, 2, 3, 4, 5, 7]).gram_matrix\n",
    "M2 = G1.subgraph([9, 10]).gram_matrix\n",
    "print(M1)\n",
    "print(M2)\n",
    "print(is_parabolic_matrix(M1))\n",
    "print(is_parabolic_matrix(M2))\n",
    "print(M1.is_singular())\n",
    "print(M2.is_singular())\n",
    "\n",
    "# Degenerate and every component is PSD\n",
    "# Degenerate and every subdiagram is elliptic"
   ]
  },
  {
   "cell_type": "code",
   "execution_count": null,
   "id": "ebe5ec1b-c678-4d11-a9c7-61c288465e5a",
   "metadata": {},
   "outputs": [],
   "source": [
    "H = G1.subgraph([0, 1, 2, 7, 11, 8, 5, 4])\n",
    "# G1.to_tikz_labeled(subgraph=H, tikz_options = {\n",
    "#         \"scale\": 2,\n",
    "#         \"graphviz_scale\": 0.2,\n",
    "#         \"graphviz_width\": 0.15,\n",
    "#         \"scale_factor\": 50,\n",
    "#         \"scale_factor_labels\": 53,\n",
    "#         \"fontsize\": 2,\n",
    "#         \"tex_font_size\": \"tiny\",\n",
    "#         \"edge_width\": 1.2,\n",
    "#         \"node_size\": \"0.5cm\",\n",
    "#     })\n",
    "\n",
    "G1.plot(subgraph=H)\n",
    "\n",
    "ells = list(reversed(sorted(ell_subgraphs.maximal_elements(), key=len)))\n",
    "H = ells[0]\n",
    "G1.plot(subgraph=H)  # .save(f'S1_H{i}.png')"
   ]
  },
  {
   "cell_type": "code",
   "execution_count": null,
   "id": "be3e974e-a219-4a1a-a95a-215900ad9e21",
   "metadata": {},
   "outputs": [],
   "source": [
    "s = \"\"\n",
    "ells = list(reversed(sorted(ell_subgraphs.maximal_elements(), key=len)))\n",
    "for i, H in enumerate(ells):\n",
    "    G1.plot(subgraph=H).save(f\"S1_H{i}.png\")\n",
    "    s += f\"\"\"\n",
    "\\\\begin{{minipage}}[c]{{0.25\\\\textwidth}}\n",
    "\\\\includegraphics[width=\\\\textwidth]{{S1_H{i}.png}}\n",
    "\\\\end{{minipage}}\n",
    "    \"\"\".rstrip()\n",
    "    if (i + 1) % 4 == 0:\n",
    "        s += \"\\n\\\\vspace{1em}\\n\"\n",
    "\n",
    "print(s)"
   ]
  },
  {
   "cell_type": "markdown",
   "id": "69c388f0-e5dc-443e-8a10-1038148f9d85",
   "metadata": {},
   "source": [
    "![](./S1_H0.png) ![](./S1_H1.png) ![](./S1_H2.png) ![](./S1_H3.png) ![](./S1_H4.png) ![](./S1_H5.png) ![](./S1_H6.png) ![](./S1_H7.png) ![](./S1_H8.png) ![](./S1_H9.png) ![](./S1_H10.png) ![](./S1_H11.png) ![](./S1_H12.png) ![](./S1_H13.png) ![](./S1_H14.png) ![](./S1_H15.png) ![](./S1_H16.png) ![](./S1_H17.png) ![](./S1_H18.png) ![](./S1_H19.png) ![](./S1_H20.png) \n"
   ]
  },
  {
   "cell_type": "code",
   "execution_count": null,
   "id": "8ec09f69-0380-4b13-b9ef-52498dcf7398",
   "metadata": {},
   "outputs": [],
   "source": [
    "subgraphs = G.orbits_of_subgraphs(representatives_only=True)\n",
    "subgraphs\n",
    "nontrivial_subgraphs = [H for H in subgraphs if len(H) > 0]\n",
    "elliptic_subgraphs = filter(lambda H: is_elliptic_subgraph(H), nontrivial_subgraphs)\n",
    "only_connected = False\n",
    "if only_connected:\n",
    "    elliptic_subgraphs = filter(lambda H: H.is_connected(), elliptic_subgraphs)\n",
    "\n",
    "fast = False\n",
    "if fast:\n",
    "    elliptic_subgraphs = lmap(lambda H: Set(H.vertices()), elliptic_subgraphs)\n",
    "    B = Poset((elliptic_subgraphs, lambda h0, h1: h0.issubset(h1)))\n",
    "else:\n",
    "    B = Poset(\n",
    "        (\n",
    "            set(elliptic_subgraphs),\n",
    "            lambda x, y: all([v in y.vertices() for v in x.vertices()]),\n",
    "        )\n",
    "    )\n",
    "B.cardinality()\n",
    "B"
   ]
  },
  {
   "cell_type": "code",
   "execution_count": null,
   "id": "8b51bb46-76fa-4d0f-82a0-441e6019f17d",
   "metadata": {},
   "outputs": [],
   "source": [
    "elliptic_subgraphs = filter(lambda H: is_elliptic_subgraph(H), nontrivial_subgraphs)\n",
    "elliptic_subgraphs = lmap(lambda H: Set(H.vertices()), elliptic_subgraphs)\n",
    "h0 = elliptic_subgraphs[0]\n",
    "h1 = elliptic_subgraphs[1]\n",
    "\n",
    "h0.issubset(h1)"
   ]
  },
  {
   "cell_type": "code",
   "execution_count": null,
   "id": "ad234be5-5682-4083-a1ac-0acad3590cde",
   "metadata": {},
   "outputs": [],
   "source": [
    "Hp = CoxeterSubgraph(H)\n",
    "\n",
    "subgraphs = G.orbits_of_subgraphs(representatives_only=True)\n",
    "\n",
    "nontrivial_subgraphs = [H for H in subgraphs if len(H) > 0]\n",
    "elliptic_subgraphs = filter(lambda H: is_elliptic_subgraph(H), nontrivial_subgraphs)\n",
    "\n",
    "els = lmap(lambda H: H, elliptic_subgraphs)\n",
    "\n",
    "print(len(els))\n",
    "\n",
    "\n",
    "def compare_subgraphs(x, y):\n",
    "    return Set(x.vertices()).issubset(Set(y.vertices())) and Set(x.edges()).issubset(\n",
    "        Set(y.edges())\n",
    "    )\n",
    "\n",
    "\n",
    "B = Poset((set(els), compare_subgraphs))\n",
    "B\n",
    "# hash(Hp)\n",
    "# frozenset( H.edges() ).union( frozenset( H.vertices() ) )\n",
    "# hash( frozenset( H.edges() ) )\n",
    "# hash( lmap(lambda s: str(s), list(H.edges()) ) )"
   ]
  },
  {
   "cell_type": "code",
   "execution_count": null,
   "id": "dcdc57e1-22a0-458e-889a-c9426fc5e352",
   "metadata": {},
   "outputs": [],
   "source": [
    "?Poset"
   ]
  },
  {
   "cell_type": "code",
   "execution_count": null,
   "id": "c9be2f4c-0fd3-4f8e-9b81-a4ea4f113f86",
   "metadata": {
    "scrolled": true
   },
   "outputs": [],
   "source": [
    "print(H.to_dotfile())"
   ]
  },
  {
   "cell_type": "code",
   "execution_count": null,
   "id": "1447d9d2-7358-430f-af5d-dcbc631339a5",
   "metadata": {},
   "outputs": [],
   "source": [
    "subgraphs = G.get_subgraphs()\n",
    "AutG = G.automorphism_group()\n",
    "int_orbits = set()\n",
    "for H in subgraphs:\n",
    "    orb = AutG.orbit(tuple(H.vertices()), action=\"OnSets\")\n",
    "    lp = sorted([tuple(sorted(l)) for l in orb])\n",
    "    int_orbits.add(tuple(lp))\n",
    "\n",
    "# int_orbits.\n",
    "# graph_orbits = set()\n",
    "# for some_orbs in int_orbits:\n",
    "#     # selg.subgraph(x).copy(immutable=True)\n",
    "#     # Orbit calculation needs immutable objects => hashable\n",
    "#     ls = lmap( lambda x: self.subgraph(x), some_orbs)\n",
    "#     graph_orbits.add(tuple(ls))\n",
    "# [x[0]for x in graph_orbits]\n",
    "\n",
    "\n",
    "graph_orbits = Set(\n",
    "    [tuple(map(lambda x: G.subgraph(x), some_orbs)) for some_orbs in int_orbits]\n",
    ")\n",
    "print(graph_orbits.cardinality())\n",
    "\n",
    "reps = [x[0] for x in graph_orbits]\n",
    "len(reps)"
   ]
  },
  {
   "cell_type": "code",
   "execution_count": null,
   "id": "bf50dc16-81a7-47b2-a64e-5d33de38b932",
   "metadata": {},
   "outputs": [],
   "source": [
    "G._default_options[\"vertex_colors\"]\n",
    "# show( G._default_options )\n",
    "# show( G.gram_matrix )\n",
    "# show( init_coxeter_colors(G) )\n",
    "H = G.subgraph([1, 2, 3, 6, 9])\n",
    "# G.pos\n",
    "# G._default_options[\"vertex_colors\"]\n",
    "H.plot()\n",
    "# show( init_coxeter_colors(H) )\n",
    "# Hp.vertices()\n",
    "# Hl = H.graphplot(save_pos=True)\n",
    "# Hl.set_pos(pos=pos_dict)\n",
    "# G.get_pos()\n",
    "# print(pos_dict)\n",
    "# subs_pos_dict = {x:pos_dict[x] for x in pos_dict if x in H.vertices()}\n",
    "# show( Hp.plot(pos=subs_pos_dict, vertex_colors = G._default_options[\"vertex_colors\"]) )\n",
    "\n",
    "# show( H.vertices() )\n",
    "# d = {'#FF0000': [1,2,3,6], '#FF9900': [9], '#FFFF00': [],\n",
    "#       '#00FF00': [], '#0000FF': []}\n",
    "\n",
    "# vcs = G._default_options[\"vertex_colors\"]\n",
    "\n",
    "H._default_options\n",
    "\n",
    "# d = {}\n",
    "# for x in vcs:\n",
    "#     k = vcs[x]\n",
    "#     A = Set( H.vertices() )\n",
    "#     B = Set( vcs[x] )\n",
    "#     C = A.intersection(B)\n",
    "#     d[x] = list(C)\n",
    "\n",
    "# show(d)\n",
    "# Hp.plot(vertex_colors = d)\n",
    "# #show( init_coxeter_colors(H) )"
   ]
  },
  {
   "cell_type": "code",
   "execution_count": null,
   "id": "f9c3f682-c981-4d8d-a92a-e187ea34aa06",
   "metadata": {},
   "outputs": [],
   "source": [
    "Set(H.vertices())\n",
    "\n",
    "{x: vcs[x] for x in vcs}\n",
    "\n",
    "d = {}\n",
    "for x in vcs:\n",
    "    k = vcs[x]\n",
    "    A = Set(H.vertices())\n",
    "    B = Set(vcs[x])\n",
    "    C = A.intersection(B)\n",
    "    d[x] = list(C)\n",
    "\n",
    "d\n",
    "\n",
    "# vcs = G._default_options[\"vertex_colors\"]\n",
    "# {x: vcs[x] for x in vcs if not Set( H.vertices()).intersection( Set(vcs[x]) ).is_empty()  }"
   ]
  },
  {
   "cell_type": "code",
   "execution_count": null,
   "id": "992eef69-65e1-46c9-8552-cb8d3b033ad7",
   "metadata": {},
   "outputs": [],
   "source": [
    "S = Set([1, 2])\n",
    "T = Set([2, 3])\n",
    "S.intersection(T).is_empty()\n",
    "\n",
    "# {x:pos_dict[x] for x in pos_dict if x in H.vertices()}"
   ]
  },
  {
   "cell_type": "code",
   "execution_count": null,
   "id": "43ac3360-0c17-4d63-96ae-eb5160a3203e",
   "metadata": {},
   "outputs": [],
   "source": [
    "Gp = G.graphplot()\n",
    "pos_dict = G.graphplot()._pos\n",
    "pos_dict"
   ]
  },
  {
   "cell_type": "code",
   "execution_count": null,
   "id": "5a94f84f-1ce5-4d1c-8ade-06d42c64923a",
   "metadata": {},
   "outputs": [],
   "source": [
    "import random\n",
    "\n",
    "H = random.choice(ell_subgraphs)\n",
    "H = G.subgraph([1, 2, 3, 6, 9])\n",
    "H.plot()\n",
    "# H.plot()"
   ]
  },
  {
   "cell_type": "code",
   "execution_count": null,
   "id": "a5965ad2-ae59-49c6-8b72-6259c4980ebc",
   "metadata": {},
   "outputs": [],
   "source": [
    "# H.vertices()\n",
    "Gp = G.graphplot()\n",
    "Gp._pos\n",
    "# H.edges()\n",
    "# H.plot(title=\"ASdsa\")"
   ]
  },
  {
   "cell_type": "code",
   "execution_count": null,
   "id": "67ca5aed-2b2e-41f6-9a04-a2b59c976a13",
   "metadata": {},
   "outputs": [],
   "source": [
    "# subgraphs\n",
    "# sg = ell_subgraphs[5]\n",
    "# sg.plot()\n",
    "# sg.plot()\n",
    "# G.plot()\n",
    "\n",
    "sgp = G.subgraph([3, 2, 0, 10, 7])\n",
    "sp = CoxeterGraph(sgp)\n",
    "\n",
    "\n",
    "Gp = Graph(multiedges=True)\n",
    "\n",
    "for e in [e for e in sg.edges() if e[0] != e[1]]:\n",
    "    v1 = e[0]\n",
    "    v2 = e[1]\n",
    "    v1_v2 = e[2]\n",
    "    v1_2 = [e for e in sg.edges_incident(v1) if e[0] == v1 and e[1] == v1][0][2]\n",
    "    v2_2 = [e for e in sg.edges_incident(v2) if e[0] == v2 and e[1] == v2][0][2]\n",
    "    # print(f' {v1}({v1_2}) ---- {v1_v2} ---- {v2}({v2_2}) ')\n",
    "    g12 = int(v1_v2) / sqrt(int(v1_2) * int(v2_2))\n",
    "    if g12 > 1:\n",
    "        # print(f'Dotted Edge labeled {g12}')\n",
    "        Gp.add_edge(v1, v2, g12)\n",
    "    elif g12 == 1:\n",
    "        # print(f'm = {m_lookup[g12]}')\n",
    "        # print(\"Thick/Infinite Edge\")\n",
    "        Gp.add_edge(v1, v2, \"∞\")\n",
    "    elif g12 < 1:\n",
    "        # print(g12)\n",
    "        # g12_p = cos(g12)\n",
    "        # print(g12_p)\n",
    "        # m = ( pi / arccos( g12) ) -2\n",
    "        m = m_lookup[g12]\n",
    "        # print(f'm = {int( m_lookup[g12] )}')\n",
    "        # print(f'{m}-fold edge')\n",
    "        for i in range(m - 2):\n",
    "            Gp.add_edge(v1, v2, \"\")\n",
    "    else:\n",
    "        raise ValueError(\"Unknown entry.\")\n",
    "\n",
    "pl = Gp.plot()\n",
    "pl.show(figsize=10)"
   ]
  },
  {
   "cell_type": "code",
   "execution_count": null,
   "id": "47e5c5ff-0bb0-42d5-99c7-8db6e66839c5",
   "metadata": {},
   "outputs": [],
   "source": [
    "type(sgp)\n",
    "# sgp.plot()\n",
    "# ell_subgraphs_as_verts = [Set(x.vertices()) for x in ell_subgraphs]\n",
    "# B = Poset((ell_subgraphs_as_verts, lambda x,y: x.issubset(y)))\n",
    "# show( len( B.maximal_elements() ) )\n",
    "\n",
    "# B = Poset(\n",
    "#     (ell_subgraphs, lambda x,y:\n",
    "#      Set( x.vertices() ).issubset( Set(y.vertices() ) ) and\n",
    "#      Set( x.edges() ).issubset( Set(y.edges() ) )\n",
    "#     )\n",
    "# )\n",
    "# len( B.maximal_elements() )\n",
    "\n",
    "# B"
   ]
  },
  {
   "cell_type": "code",
   "execution_count": null,
   "id": "3b7a198d-9e0f-422e-8011-b37d615ea61c",
   "metadata": {},
   "outputs": [],
   "source": [
    "b = B[200]\n",
    "\n",
    "d = dict(lmap(lambda H: (H, H.vertices()), B.order_filter([b])))\n",
    "P = B.subposet(B.order_filter([b]))\n",
    "P.plot(element_labels=d)"
   ]
  },
  {
   "cell_type": "code",
   "execution_count": null,
   "id": "38575073-4878-4745-adb6-cdc9b6f91cf4",
   "metadata": {},
   "outputs": [],
   "source": [
    "B.zeta_polynomial()"
   ]
  },
  {
   "cell_type": "code",
   "execution_count": null,
   "id": "125a4f79-916a-4df7-8c4e-b12c0d78da63",
   "metadata": {},
   "outputs": [],
   "source": [
    "l1 = G.subgraph([6, 7, 8, 9])\n",
    "l2 = G.subgraph([7, 8, 9])\n",
    "# l1 = ell_subgraphs[35]\n",
    "# l2 = [x for x in subgraphs if Set(x.vertices()).issubset( Set(l1.vertices())) ][1]\n",
    "\n",
    "show(l1.vertices())\n",
    "show(l2.vertices())\n",
    "\n",
    "\n",
    "show(Set(l2.vertices()).issubset(Set(l1.vertices())))\n",
    "\n",
    "# show(l1)\n",
    "# print(\"------------\")\n",
    "# show(l2)\n",
    "\n",
    "show(Set(l2.edges()).issubset(Set(l1.edges())))\n",
    "\n",
    "# all([l1.is_subgraph(x) for x in ell_subgraphs])\n",
    "\n",
    "# lp = G.subgraph(ell_subgraphs[35].vertices())\n",
    "\n",
    "# l1.plot(vertex_colors=None, edge_labels=True)\n",
    "show(l1.old_plot().plot())\n",
    "# G.underlying_graph"
   ]
  },
  {
   "cell_type": "code",
   "execution_count": null,
   "id": "07faf67d-b69a-435d-b5db-e25f4b581773",
   "metadata": {},
   "outputs": [],
   "source": []
  },
  {
   "cell_type": "code",
   "execution_count": null,
   "id": "4b000742-e702-4094-bf0d-509fd5d8a730",
   "metadata": {},
   "outputs": [],
   "source": [
    "show(l2.edges())\n",
    "show(G.edges())"
   ]
  },
  {
   "cell_type": "code",
   "execution_count": null,
   "id": "b1debfef-76e5-4b80-9aae-dbb3f3b68083",
   "metadata": {},
   "outputs": [],
   "source": [
    "print(ell_subgraphs[5].vertices())\n",
    "\n",
    "l1 = Set(ell_subgraphs[5].vertices())\n",
    "Set([0, 1, 2]).issubset(l1)\n",
    "show(l1)\n",
    "\n",
    "l2 = [Set(x.vertices()) for x in ell_subgraphs if Set(x).issubset(l1)][5]\n",
    "show(l2)\n",
    "# ell_subgraphs[40].vertices()\n",
    "# G.num_verts()\n",
    "\n",
    "# ell_subgraphs_as_verts = lmap(lambda x: tuple(x.vertices()), ell_subgraphs)[0:10]\n",
    "# ell_subgraphs_as_verts\n",
    "G = [l1, l2]\n",
    "show(G)"
   ]
  },
  {
   "cell_type": "code",
   "execution_count": null,
   "id": "77f77743-3936-4188-827d-fa62a9e48341",
   "metadata": {},
   "outputs": [],
   "source": [
    "S = Subsets([1,..,5])\n",
    "G = [t for t in S if sum(t)<=3]\n",
    "show(S)\n",
    "show(G)\n",
    "#Poset((G, lambda x,y: x.issubset(y)))"
   ]
  },
  {
   "cell_type": "code",
   "execution_count": null,
   "id": "17abd969-d38e-451f-9d3f-56fd5f41b7f6",
   "metadata": {},
   "outputs": [],
   "source": [
    "# B = posets.BooleanLattice(G.num_verts(), )\n",
    "B = Poset(([l1, l2], lambda x, y: x.issubset(y)))\n",
    "B.maximal_elements()"
   ]
  },
  {
   "cell_type": "code",
   "execution_count": null,
   "id": "7afe5d40-e1f4-49be-9052-c86d47b31431",
   "metadata": {},
   "outputs": [],
   "source": [
    "nontrivial_subgraphs\n",
    "# g=libgap.SymmetricGroup(7)\n",
    "# n = G.num_verts()\n",
    "# g.Orbits(tuples([1..n]), libgap.OnTuples)\n",
    "# Subsets([1..n])\n",
    "# G = libgap.SymmetricGroup(4)\n",
    "# ss = Subsets([1,2,3,4])\n",
    "# show(len(ss))\n",
    "\n",
    "# G.plot()\n",
    "\n",
    "# nontrivial_subgraphs = [H for H in subgraphs if len(H) > 0]\n",
    "# elliptic_subgraphs = filter(lambda H: is_elliptic_subgraph(H), nontrivial_subgraphs)\n",
    "# list(reversed(sorted(elliptic_subgraphs, key=len)))\n",
    "# ?AutG.orbits(, OnSetsSets)\n",
    "\n",
    "\n",
    "# sgs = G.get_subgraphs(only_connected = True, limit=10)\n",
    "AutG = G.automorphism_group()\n",
    "\n",
    "# table([(g, im(g)) for g in G])\n",
    "T1 = libgap.Group(AutG.gens())\n",
    "# T2 = libgap.Group(map(libgap, AutG.gens()))\n",
    "\n",
    "T2 = libgap.Group(lmap(libgap, AutG.gens()))\n",
    "\n",
    "# T1.order()\n",
    "T2.Order()\n",
    "\n",
    "# orbs = G.orbits_of_subgraphs()\n",
    "\n",
    "# show(len(G.orbits_of_elliptic_subgraphs()))\n",
    "# show(len(orbs))\n",
    "# orbs\n",
    "\n",
    "# Orbit(H,Set([Set([G.1,G.1*G.2]),Set([G.1,G.2])]),OnSetsSets); works –\n",
    "\n",
    "\n",
    "# gfs = G.get_subgraphs()\n",
    "# factor( len(gfs) )\n",
    "\n",
    "# orbs = libgap.Orbit( G, sg, action = \"OnSetsSets\" )\n",
    "\n",
    "# AutG.orbit(gfs, action = \"OnSetSets\")\n",
    "\n",
    "# len(orbs)\n",
    "# orbs\n",
    "# g = libgap.Group( (1,2,3), (2,3,4) );;\n",
    "# libgap.Orbit( g, [ [ 1, 2 ], [ 3, 4 ] ], OnSetsSets );\n",
    "\n",
    "# orbits = set()\n",
    "\n",
    "# gfs = G.get_subgraphs(limit=10)\n",
    "\n",
    "# for H in gfs:\n",
    "#     orb = AutG.orbit( tuple(H.vertices() ), action = \"OnSets\")\n",
    "#     lp = sorted( [ tuple( sorted(l) ) for l in orb] )\n",
    "#     orbits.add(tuple( lp ))\n",
    "\n",
    "# print(len(gfs))\n",
    "# print(len(orbits))\n",
    "# [x[0] for x in orbits]"
   ]
  },
  {
   "cell_type": "code",
   "execution_count": null,
   "id": "94ccec71-3217-4e47-8d31-6d0c1bad091d",
   "metadata": {},
   "outputs": [],
   "source": [
    "for x in orbits:\n",
    "    print(x)\n",
    "    print(\"-----\")"
   ]
  },
  {
   "cell_type": "code",
   "execution_count": null,
   "id": "3f123151-8ce8-40ec-8667-0fef6d2403d1",
   "metadata": {},
   "outputs": [],
   "source": [
    "L = TEn\n",
    "G = TEn.gram_matrix()\n",
    "Ginv = G.inverse()\n",
    "\n",
    "(\n",
    "    e,\n",
    "    f,\n",
    "    ep,\n",
    "    fp,\n",
    "    a1,\n",
    "    a2,\n",
    "    a3,\n",
    "    a4,\n",
    "    a5,\n",
    "    a6,\n",
    "    a7,\n",
    "    a8,\n",
    ") = TEn.basis()\n",
    "\n",
    "te = e + ep + fp - a1\n",
    "tf = f + ep + fp - a1\n",
    "\n",
    "ta1 = ep - fp\n",
    "ta2 = a2\n",
    "ta3 = fp + a3\n",
    "ta4 = a4\n",
    "ta5 = a5\n",
    "ta6 = a6\n",
    "ta7 = a7\n",
    "ta8 = a8\n",
    "\n",
    "ted, tfd, ta1d, ta2d, ta3d, ta4d, ta5d, ta6d, ta7d, ta8d = (\n",
    "    L.sub_gram_matrix([te, tf, ta1, ta2, ta3, ta4, ta5, ta6, ta7, ta8])\n",
    "    .inverse()\n",
    "    .columns()\n",
    ")\n",
    "\n",
    "a9 = 2 * te - ta1\n",
    "a10 = 2 * te + 2 * (ta2d - ta3d)\n",
    "a11 = tf - te\n",
    "a12 = ed + fd + 2 * (tilde_a6d - tilde_a3d)\n",
    "a13 = te + tf + 2 * (ta1d + ta8d - ta3d)\n",
    "a14 = te + tf + ta3\n",
    "sterks5 = [a2, a4, a5, a6, a7, a8, ta8d, a10, a11, a12, a13, a14, ta1, a9]\n",
    "\n",
    "\n",
    "sterks5\n",
    "\n",
    "# f*fp + 2*a8d\n",
    "\n",
    "matrix_to_graph(TEn.sub_gram_matrix(sterks3)).plot()\n",
    "\n",
    "# M = L.sub_gram_matrix(sterks1)\n",
    "# show( M)\n",
    "# show( type(M) )\n",
    "# show( isinstance(M, sage.matrix.matrix_integer_dense.Matrix_integer_dense) )\n",
    "\n",
    "# Lp = L.submodule(L.span(sterks1))\n",
    "# print( type(Lp) )\n",
    "# isinstance(Lp, sage.modules.free_quadratic_module.FreeQuadraticModule_generic_pid)\n",
    "# Lp.gram_matrix()\n",
    "\n",
    "# L = E10_2\n",
    "# G = CoxeterGraph(L)\n",
    "# G.plot()\n",
    "# (1) == (pi/arccos( L.b(s1, s2) / sqrt( L.q(s1) * L.q(s2) ))) -2\n",
    "# L.<e,f> = U\n",
    "# L = U\n",
    "# L.<s1, s2, l1, l2> = IntegralLattice( matrix(ZZ, 4, [-2,1,0,0, 1,-2,0,0, 0,0,-4,2, 0,0,2,-4]))\n",
    "# L.<a1, a2, a3, a4, d1, d2, d3, d4, e1, ..., e8> = A4 @ D4 @ E8\n",
    "# G = CoxeterGraph(L)\n",
    "# G.plot(layout='graphviz', edge_labels=True)\n",
    "# G.plot(edge_labels_background=\"white\")"
   ]
  },
  {
   "cell_type": "code",
   "execution_count": null,
   "id": "614c61d5-46b3-4fd1-960b-b87098908109",
   "metadata": {},
   "outputs": [],
   "source": [
    "\n",
    "L.<e,f,a1, ..., a8> = U @ E8_2\n",
    "\n",
    "ed, fd, a1d, a2d, a3d, a4d, a5d, a6d, a7d, a8d = L.gram_matrix().inverse().columns()\n",
    "\n",
    "a9 = 2*e - a1\n",
    "a10 = 2*e + 2*(a2d - a3d)\n",
    "a11 = f - e\n",
    "a12 = e + f + 2*(a6d - a3d)\n",
    "a13 = e + f + 2*(a1d + a8d - a3d)\n",
    "a14 = e + f + a3\n",
    "sterks5=[a2, a4, a5, a6, a7, a8, 2*a8d, a10, a11, a12, a13, a14, a1, a9]\n",
    "\n",
    "\n"
   ]
  },
  {
   "cell_type": "code",
   "execution_count": null,
   "id": "e15c32bb-deee-42f3-8ddd-178336ce9bea",
   "metadata": {},
   "outputs": [],
   "source": [
    "G = Graph()\n",
    "G.add_edge(0, 1, 2)\n",
    "G.add_edge(1, 2, 3)\n",
    "print(G.edges())\n",
    "\n",
    "e0 = G.edges()[0]\n",
    "e1 = G.edges()[1]\n",
    "print(e0)\n",
    "print(e1)\n",
    "\n",
    "es = dict({e0: \"-\", e1: \"-\"})\n",
    "# G.plot(edge_styles = es)\n",
    "# Need updates Sage"
   ]
  },
  {
   "cell_type": "code",
   "execution_count": null,
   "id": "5a864b31-b2d6-4dea-99b6-9d04a6c39252",
   "metadata": {},
   "outputs": [],
   "source": [
    "# g = Graph(loops=True, multiedges=True, sparse=True)\n",
    "# g.add_edges([(0, 0, 'a'), (0, 0, 'b'), (0, 1, 'c'),\n",
    "#           (0, 1, 'd'), (0, 1, 'e'), (0, 1, 'f'),\n",
    "#           (0, 1, 'f'), (2, 1, 'g'), (2, 2, 'h')])\n",
    "# GP = g.graphplot(vertex_size=100, edge_labels=True,\n",
    "#               color_by_label=True, edge_style='dashed')\n",
    "# GP.set_edges(edge_styles={'a':'dashed', 'g':'dotted'})\n",
    "# GP.plot()"
   ]
  },
  {
   "cell_type": "code",
   "execution_count": null,
   "id": "c92698bc-1509-4d8b-b5d1-115bc404e00d",
   "metadata": {},
   "outputs": [],
   "source": [
    "# g.set_latex_options(tkz_style='Classic')\n",
    "# from sage.graphs.graph_latex import check_tkz_graph\n",
    "# check_tkz_graph()  # random - depends on TeX installation\n",
    "# latex(g)\n"
   ]
  },
  {
   "cell_type": "code",
   "execution_count": null,
   "id": "744a3872-1747-46da-8d0f-795df929366b",
   "metadata": {},
   "outputs": [],
   "source": [
    "# def to_tikz(graph, subgraph=None, scale=1, merge_multiedges=False,\n",
    "#                             merge_label_function=tuple):\n",
    "\n",
    "#     graph_to_plot = graph.coxeter_graph\n",
    "#     pos = graph.get_pos()\n",
    "#     if pos is None:\n",
    "#         raise ValueError('vertex positions need to be set first')\n",
    "#     keys_for_vertices = lambda u: u\n",
    "#     lines = []\n",
    "#     lines.append(r'\\begin{tikzpicture}')\n",
    "#     # lines.append(r'[auto,scale={}]'.format(scale))\n",
    "#     lines.append(f'[auto, scale={scale}, every node/.style={{scale={scale}}}]')\n",
    "# # ,scale=0.6, every node/.style={scale=0.6}\n",
    "#     # vertices\n",
    "#     lines.append(r'% vertices')\n",
    "#     lines.append(r'\\begin{pgfonlayer}{nodelayer}')\n",
    "#     for u in graph_to_plot.vertices(sort=False):\n",
    "#         v2 = [x for x in graph.edges() if x[0] == x[1] and x[1] == u][0][2]\n",
    "#         color = \"black\" if v2 == -4 else \"white\"\n",
    "#         line = f'\\\\node [style={color} node, label={{[label distance=0.25cm]30:{keys_for_vertices(u)} }}] ({keys_for_vertices(u)}) at {tuple(pos[u]) } {{}};'\n",
    "#         lines.append(line)\n",
    "#     lines.append(r'\\end{pgfonlayer}')\n",
    "\n",
    "#     # edges\n",
    "#     lines.append(r'% edges')\n",
    "#     #arrow = '->' if graph.is_directed() else ''\n",
    "#     #arrow = ''\n",
    "\n",
    "#     num_edges = Counter( graph_to_plot.edges() )\n",
    "#     #print(num_edges)\n",
    "#     lines.append(r'\\begin{pgfonlayer}{edgelayer}')\n",
    "#     for (u, v, label) in num_edges: #graph_to_plot.edges(sort=True):\n",
    "#         if u == v:\n",
    "#             # loops are done below\n",
    "#             continue\n",
    "#         if num_edges.get((u, v,label)) == 2:\n",
    "#             # label={[label distance=1cm]30:label}]\n",
    "#             line = f'\\\\draw [style=double edge] ({keys_for_vertices(u)}) -- ({keys_for_vertices(v)});'\n",
    "#         else:\n",
    "#             line = f'\\\\draw [style=plain edge] ({keys_for_vertices(u)}) -- ({keys_for_vertices(v)});'\n",
    "#         lines.append(line)\n",
    "\n",
    "#     # loops\n",
    "#     lines.append(r'% loops')\n",
    "#     for (u, v, label) in graph_to_plot.loop_edges():\n",
    "#         line = r'\\draw ({}) edge [loop above] node {{{}}} ();'.format(\n",
    "#             keys_for_vertices(u), label)\n",
    "#         lines.append(line)\n",
    "#     lines.append(r'\\end{pgfonlayer}')\n",
    "\n",
    "\n",
    "#     # Highlights\n",
    "#     if subgraph is not None:\n",
    "#         lines.append(r'% highlights')\n",
    "#         lines.append(r'\\begin{pgfonlayer}{background}')\n",
    "#         lines.append(r'\\begin{scope}[transparency group, opacity=0.5]')\n",
    "#         for (u, v, label) in subgraph.edges():\n",
    "#             if u == v:\n",
    "#                 line = f'\\\\filldraw[cyan] ({keys_for_vertices(u)}) circle (8pt);'\n",
    "#             else:\n",
    "#                 line = f'\\\\fill[cyan] \\\\convexpath{{{keys_for_vertices(u)},{keys_for_vertices(v)}}}{{8pt}};'\n",
    "#             lines.append(line)\n",
    "\n",
    "#         lines.append(r'\\end{scope}')\n",
    "#         lines.append(r'\\end{pgfonlayer}')\n",
    "#     lines.append(r'\\end{tikzpicture}')\n",
    "#     tikz = '\\n'.join(lines)\n",
    "\n",
    "#     return TikzPicture(\n",
    "#         tikz, standalone_config=[\"border=4mm\"],\n",
    "#         usetikzlibrary=['arrows', 'calc', 'positioning'],\n",
    "#         usepackage=['amsmath', 'mathptmx', 'color', '/home/dzack/Notes/tikzit',\n",
    "#                     '/home/dzack/Notes/DZG_Style_Tikz_Only', 'tikz-cd', 'pgfplots' ])"
   ]
  },
  {
   "cell_type": "code",
   "execution_count": 2,
   "id": "b463ad59-4d16-4186-9c26-0824eb9ef4cd",
   "metadata": {},
   "outputs": [
    {
     "data": {
      "image/png": "[encoded data removed]",
      "text/plain": [
       "Graphics object consisting of 4 graphics primitives"
      ]
     },
     "metadata": {},
     "output_type": "display_data"
    }
   ],
   "source": [
    "# Load the hyperbolic plane in the Poincaré Disc model\n",
    "H = HyperbolicPlane().PD()\n",
    "\n",
    "# Define two intersecting geodesics in the disc\n",
    "g1 = H.get_geodesic(-I, exp(2 pi I / 12) )      # Geodesic connecting points inside the unit disc\n",
    "g2 = H.get_geodesic(exp(2 pi I / 2.2), exp(2 pi I / 5))      # Another geodesic intersecting the first\n",
    "\n",
    "#Plot all three geodesics\n",
    "plot = g1.plot(color='orange', thickness=2) + \\\n",
    "g2.plot(color='blue', thickness=2) \n",
    "#g3.plot(color='red', linestyle='--', thickness=2)\n",
    "\n",
    "\n",
    "plot.show()"
   ]
  },
  {
   "cell_type": "code",
   "execution_count": 3,
   "id": "bf9166ba-830b-4b8e-ba6a-7ac9607f7d5b",
   "metadata": {},
   "outputs": [
    {
     "data": {
      "image/png": "[encoded data removed]",
      "text/plain": [
       "Graphics object consisting of 6 graphics primitives"
      ]
     },
     "execution_count": 3,
     "metadata": {},
     "output_type": "execute_result"
    }
   ],
   "source": [
    "UHP = HyperbolicPlane().UHP()\n",
    "g = UHP.get_geodesic(2, 3)\n",
    "h = UHP.get_geodesic(4, 5)\n",
    "perp = g.common_perpendicular(h)\n",
    "\n",
    "g.plot() + h.plot() + perp.plot()"
   ]
  },
  {
   "cell_type": "code",
   "execution_count": 4,
   "id": "76843e45-6583-4c10-992c-0a940a3b5089",
   "metadata": {},
   "outputs": [
    {
     "data": {
      "image/png": "[encoded data removed]",
      "text/plain": [
       "Graphics object consisting of 6 graphics primitives"
      ]
     },
     "execution_count": 4,
     "metadata": {},
     "output_type": "execute_result"
    }
   ],
   "source": [
    "# Load the hyperbolic plane in the Poincaré Disc model\n",
    "H = HyperbolicPlane().PD()\n",
    "import cmath\n",
    "\n",
    "# Step 1: Define two hyperbolic geodesics with endpoints on the boundary (non-intersecting)\n",
    "\n",
    "tz1, tz2 = 2 pi I / 6, 2 pi I / 2\n",
    "z1, z2 = exp(tz1), exp(tz2)\n",
    "\n",
    "tw1, tw2 = 2 pi I / 6, -2 pi I/24\n",
    "w1, w2 = exp(tw1), exp(tw2)\n",
    "\n",
    "g1 = H.get_geodesic(z1, z2)\n",
    "g2 = H.get_geodesic(w1, w2)\n",
    "\n",
    "\n",
    "# Step 4: Create the common perpendicular geodesic\n",
    "g3 = H.get_geodesic(exp((tz1 + tz2)/2), exp((tw1 + tw2)/2))\n",
    "\n",
    "# Plot all three geodesics\n",
    "plot = (\n",
    "    g1.plot(color='orange', thickness=2, legend_label='g1') +\n",
    "    g2.plot(color='blue', thickness=2, legend_label='g2') +\n",
    "    g3.plot(color='red', linestyle='--', thickness=2, legend_label='common perpendicular')\n",
    ")\n",
    "\n",
    "#plot.show()\n",
    "p = g1.plot(color=\"orange\", thickness=2) + g2.plot(color=\"blue\", thickness=2) + g3.plot(color=\"black\", linestyle=\"--\", thickness=2)\n",
    "#p.save_image(\"Ultraparallel.svg\")\n",
    "p"
   ]
  },
  {
   "cell_type": "code",
   "execution_count": 5,
   "id": "f7d8d4b9-4656-49e5-9444-3adf4791a57f",
   "metadata": {},
   "outputs": [],
   "source": [
    "# Load the hyperbolic plane in the Poincaré Disc model\n",
    "H = HyperbolicPlane().PD()\n",
    "import cmath\n",
    "\n",
    "# Step 1: Define two hyperbolic geodesics with endpoints on the boundary (non-intersecting)\n",
    "\n",
    "tz1, tz2 = 2 pi I / 6, 2 pi I / 2\n",
    "z1, z2 = exp(tz1), exp(tz2)\n",
    "\n",
    "tw1, tw2 = 2 pi I / 6, -2 pi I/24\n",
    "w1, w2 = exp(tw1), exp(tw2)\n",
    "\n",
    "g1 = H.get_geodesic(z1, z2)\n",
    "g2 = H.get_geodesic(w1, w2)\n",
    "\n",
    "\n",
    "# Step 4: Create the common perpendicular geodesic\n",
    "#g3 = H.get_geodesic(exp(2 pi I/6), exp(2 pi I / 6.1) )\n",
    "s=0.6\n",
    "t=-1/2\n",
    "g3 = line([ (1/2)*(1+3t) + I sqrt(3)/2 *(1-t), (1/2)*(1+3s) + I sqrt(3)/2 *(1-s) ], linestyle=\"--\", color=\"black\", thickness=2)\n",
    "\n",
    "\n",
    "#plot.show()\n",
    "p = g1.plot(color=\"orange\", thickness=2) + g2.plot(color=\"blue\", thickness=2) + g3.plot()\n",
    "p.save_image(\"asymptotically_parallel.svg\")\n",
    "#p"
   ]
  },
  {
   "cell_type": "code",
   "execution_count": 6,
   "id": "7ec0ec83-23d5-47a3-a1e7-73d0d7098e64",
   "metadata": {},
   "outputs": [
    {
     "data": {
      "text/plain": [
       "{'alpha': 1,\n",
       " 'rgbcolor': 'black',\n",
       " 'thickness': 2,\n",
       " 'legend_label': None,\n",
       " 'legend_color': None,\n",
       " 'linestyle': '--'}"
      ]
     },
     "execution_count": 6,
     "metadata": {},
     "output_type": "execute_result"
    }
   ],
   "source": [
    "g3[0].options()"
   ]
  },
  {
   "cell_type": "code",
   "execution_count": null,
   "id": "c82d8023-64f7-4fe5-b719-19add59da4e8",
   "metadata": {},
   "outputs": [],
   "source": []
  },
  {
   "cell_type": "code",
   "execution_count": null,
   "id": "c43a3c62-ca48-44e5-b798-26941281f762",
   "metadata": {},
   "outputs": [],
   "source": [
    "# Load the hyperbolic plane in the Poincaré Disc model\n",
    "H = HyperbolicPlane().UHP()\n",
    "\n",
    "# Step 1: Define two hyperbolic geodesics with endpoints on the boundary (non-intersecting)\n",
    "\n",
    "g1 = H.get_geodesic(-1, 3)\n",
    "g2 = H.get_geodesic(-3, -2)\n",
    "\n",
    "\n",
    "# Step 4: Create the common perpendicular geodesic\n",
    "#g3 = H.get_geodesic(exp(2 pi I/6), exp(2 pi I / 6.1) )\n",
    "s=0.6\n",
    "t=-1/2\n",
    "#g3 = line([ (1/2)*(1+3t) + I sqrt(3)/2 *(1-t), (1/2)*(1+3s) + I sqrt(3)/2 *(1-s) ], linestyle=\"--\", color=\"black\", thickness=2)\n",
    "g3 = line([0, 3 I], linestyle=\"--\", alpha=0.2, color=\"black\")\n",
    "\n",
    "g4 = g1.common_perpendicular(g2)\n",
    "\n",
    "a1c = g1.intersection(g4)[0].coordinates()\n",
    "\n",
    "#a1 = arrow((a1c.real_part(), a1c.imag()), (a1c.real_part() - 0.7, a1c.imag() + 0.4), color=\"red\", arrowsize=3)\n",
    "\n",
    "\n",
    "p = g1.plot(color=\"orange\", thickness=2, ymin=-0.2, xmin=-4, xmax=4) + g2.plot(color=\"blue\", thickness=2) + g3.plot() + g4.plot(linestyle=\"--\", color=\"black\") #+ a1.plot()\n",
    "p.save_image(\"ultraparallel_plane_model.svg\")"
   ]
  },
  {
   "cell_type": "code",
   "execution_count": null,
   "id": "e5fcbd77-9516-421a-bfdb-c4a1eff06aef",
   "metadata": {},
   "outputs": [],
   "source": [
    "# Load the hyperbolic plane in the Poincaré Disc model\n",
    "H = HyperbolicPlane().UHP()\n",
    "\n",
    "# Step 1: Define two hyperbolic geodesics with endpoints on the boundary (non-intersecting)\n",
    "\n",
    "g1 = H.get_geodesic(-3, 3)\n",
    "g2 = H.get_geodesic(-3, 1)\n",
    "\n",
    "\n",
    "# Step 4: Create the common perpendicular geodesic\n",
    "#g3 = H.get_geodesic(exp(2 pi I/6), exp(2 pi I / 6.1) )\n",
    "s=0.6\n",
    "t=-1/2\n",
    "#g3 = line([ (1/2)*(1+3t) + I sqrt(3)/2 *(1-t), (1/2)*(1+3s) + I sqrt(3)/2 *(1-s) ], linestyle=\"--\", color=\"black\", thickness=2)\n",
    "g3 = line([0, 4 I], linestyle=\"--\", alpha=0.2, color=\"black\")\n",
    "g4 = line([-3 -0.4 I, -3 + 4 I], linestyle=\"--\", color=\"black\")\n",
    "\n",
    "\n",
    "#g4 = g1.common_perpendicular(g2)\n",
    "\n",
    "a = arrow((-2, 0), (-3, 0), color=\"red\", arrowsize=3)\n",
    "\n",
    "p = g1.plot(color=\"orange\", thickness=2, ymin=-0.2, xmin=-4, xmax=4) + g2.plot(color=\"blue\", thickness=2) + g3.plot() +g4.plot() #+ a.plot() #+ g4.plot(linestyle=\"--\", color=\"black\") + \n",
    "p#.save_image(\"asymptotically_parallel_plane_model.svg\")"
   ]
  },
  {
   "cell_type": "code",
   "execution_count": null,
   "id": "4ead91af-aa6f-4b97-b901-322ecf0be4f2",
   "metadata": {},
   "outputs": [],
   "source": [
    "a = arrow((0, 0), (-1, 0), color=\"red\")\n",
    "a.plot()"
   ]
  },
  {
   "cell_type": "code",
   "execution_count": null,
   "id": "5035884a-5832-456d-b763-fccc58ca1571",
   "metadata": {},
   "outputs": [],
   "source": []
  },
  {
   "cell_type": "code",
   "execution_count": null,
   "id": "33b26d7d-dc2a-4af3-b4ef-1489b3e58fc7",
   "metadata": {},
   "outputs": [],
   "source": [
    "\n",
    "hyperbolic_triangle(exp(2 pi I/2), exp(2 pi I / 3), 1, model='PD', color='cyan', fill=True, resolution=200)\n"
   ]
  },
  {
   "cell_type": "code",
   "execution_count": null,
   "id": "a6db7128-1e21-4d4d-bad5-120ce711109f",
   "metadata": {},
   "outputs": [],
   "source": [
    "print(plt.style.available)\n"
   ]
  },
  {
   "cell_type": "code",
   "execution_count": null,
   "id": "129cdf2b-a79b-4b57-a4cd-27eafb4eac66",
   "metadata": {},
   "outputs": [],
   "source": [
    "hyperbolic_triangle(\n",
    "    -1,\n",
    "    Infinity,\n",
    "    1,\n",
    "    fill=true,\n",
    "    rgbcolor=\"#80DAEB\",\n",
    "    resolution=200,\n",
    "    xmin=-2,\n",
    "    xmax=2,\n",
    "    ymax=3,\n",
    ")\n"
   ]
  },
  {
   "cell_type": "code",
   "execution_count": 1,
   "id": "1e76c4bc-5491-44fb-8943-4f75db1547cb",
   "metadata": {},
   "outputs": [
    {
     "data": {
      "image/png": "[encoded data removed]",
      "text/plain": [
       "Graphics object consisting of 3 graphics primitives"
      ]
     },
     "execution_count": 1,
     "metadata": {},
     "output_type": "execute_result"
    }
   ],
   "source": [
    "import matplotlib.pyplot as plt\n",
    "import numpy as np\n",
    "\n",
    "plt.style.use('seaborn-v0_8-dark-palette')\n",
    "\n",
    "tri = hyperbolic_triangle(-1, Infinity, 1, fill=true, rgbcolor='#80DAEB', resolution=200, xmin=-2, xmax=2, ymax=3, axes=False)\n",
    "g4 = line([-3, 3], color=\"black\", axes=False)\n",
    "g5 = line([0, 5 I], color=\"black\", axes=False, linestyle=\"--\", alpha=0.2)\n",
    "\n",
    "g4.axes(False)\n",
    "g4.plot() + g5.plot() + tri.plot()"
   ]
  },
  {
   "cell_type": "code",
   "execution_count": 3,
   "id": "fa95f3f0-ef72-4d3b-8742-ea781849fc31",
   "metadata": {},
   "outputs": [
    {
     "data": {
      "image/png": "[encoded data removed]",
      "text/plain": [
       "Graphics object consisting of 2 graphics primitives"
      ]
     },
     "execution_count": 3,
     "metadata": {},
     "output_type": "execute_result"
    }
   ],
   "source": [
    "UHP = HyperbolicPlane().UHP()\n",
    "PD = HyperbolicPlane().PD()\n",
    "p1 = UHP.get_point(-1).to_model(PD)\n",
    "p2 = UHP.get_point(1).to_model(PD)\n",
    "p3 = UHP.get_point(Infinity).to_model(PD)\n",
    "\n",
    "tri = hyperbolic_triangle(\n",
    "    p1.coordinates(),\n",
    "    p2.coordinates(),\n",
    "    p3.coordinates(),\n",
    "    model=\"PD\",\n",
    "    fill=True,\n",
    "    rgbcolor=\"#80DAEB\",\n",
    "    axes=False,\n",
    ")\n",
    "tri"
   ]
  },
  {
   "cell_type": "code",
   "execution_count": 11,
   "id": "06b01e37-d12a-461e-a672-0635e1d1ed43",
   "metadata": {},
   "outputs": [
    {
     "data": {
      "image/png": "[encoded data removed]",
      "text/plain": [
       "Graphics object consisting of 2 graphics primitives"
      ]
     },
     "execution_count": 11,
     "metadata": {},
     "output_type": "execute_result"
    }
   ],
   "source": [
    "g1 = PD.get_geodesic(-1, I)\n",
    "g2 = PD.get_geodesic(I, 1)\n",
    "g3 = PD.get_geodesic(1, -1)\n",
    "inv11 = g11.reflection_involution()\n",
    "plot(inv11 * g2)"
   ]
  },
  {
   "cell_type": "code",
   "execution_count": 48,
   "id": "a56fb8fa-dfe3-4716-b7a1-d86a065ce5f4",
   "metadata": {},
   "outputs": [
    {
     "data": {
      "image/png": "[encoded data removed]",
      "text/plain": [
       "Graphics object consisting of 8 graphics primitives"
      ]
     },
     "execution_count": 48,
     "metadata": {},
     "output_type": "execute_result"
    }
   ],
   "source": [
    "allpts = []\n",
    "allgeos = []\n",
    "\n",
    "p1 = UHP.get_point(-1).to_model(PD)\n",
    "p2 = UHP.get_point(1).to_model(PD)\n",
    "p3 = UHP.get_point(Infinity).to_model(PD)\n",
    "\n",
    "allpts += [(p1, p2, p3)]\n",
    "\n",
    "tri1 = hyperbolic_triangle(\n",
    "    p1.coordinates(),\n",
    "    p2.coordinates(),\n",
    "    p3.coordinates(),\n",
    "    model=\"PD\",\n",
    "    fill=True,\n",
    "    rgbcolor=\"#80DAEB\",\n",
    "    axes=False,\n",
    ")\n",
    "\n",
    "inv11 = g11.reflection_involution()\n",
    "\n",
    "g1 = PD.get_geodesic(p1.coordinates(), p2.coordinates(), color=\"blue\", axes=False)\n",
    "g2 = PD.get_geodesic(p2.coordinates(), p3.coordinates(), color=\"blue\", axes=False)\n",
    "g3 = PD.get_geodesic(p3.coordinates(), p1.coordinates(), color=\"blue\", axes=False)\n",
    "\n",
    "allgeos += [(g1, g2, g3)]\n",
    "\n",
    "tri1 += g1.plot() + g2.plot() + g3.plot()\n",
    "\n",
    "# tri2 = hyperbolic_triangle(inv11 * p1, inv11 * p2, inv11 * p3, model=\"PD\", fill=True, rgbcolor=\"#80DAEB\", axes=False)\n",
    "# tri1.plot() + tri2.plot()\n",
    "\n",
    "g1p = inv11 * g1\n",
    "g2p = inv11 * g2\n",
    "g3p = inv11 * g3\n",
    "\n",
    "# ip1 = g1p.intersection(g2p)\n",
    "\n",
    "\n",
    "# tri2 = hyperbolic_triangle(inv11 * p1, inv11 * p2, inv11 * p3, model=\"PD\", fill=True, rgbcolor=\"#80DAEB\", axes=False)\n",
    "# tri1.plot() + (inv11 * g1).plot() + (inv11 *g2).plot() + (inv11 *g3).plot()\n",
    "tri1"
   ]
  },
  {
   "cell_type": "code",
   "execution_count": 46,
   "id": "60a7d7c1-e1f2-4e9e-8bca-4495e9af5a32",
   "metadata": {},
   "outputs": [
    {
     "data": {
      "text/plain": [
       "[1, -I, -1]"
      ]
     },
     "execution_count": 46,
     "metadata": {},
     "output_type": "execute_result"
    }
   ],
   "source": [
    "newpoints = list(\n",
    "    Set(\n",
    "        [\n",
    "            g1p.start().coordinates(),\n",
    "            g1p.end().coordinates(),\n",
    "            g2p.start().coordinates(),\n",
    "            g2p.end().coordinates(),\n",
    "            g3p.start().coordinates(),\n",
    "            g3p.end().coordinates(),\n",
    "        ]\n",
    "    )\n",
    ")\n",
    "newpoints"
   ]
  },
  {
   "cell_type": "code",
   "execution_count": 47,
   "id": "ef35dda2-5003-40f3-8fe7-5e121f3bb8db",
   "metadata": {},
   "outputs": [
    {
     "data": {
      "image/png": "[encoded data removed]",
      "text/plain": [
       "Graphics object consisting of 16 graphics primitives"
      ]
     },
     "execution_count": 47,
     "metadata": {},
     "output_type": "execute_result"
    }
   ],
   "source": [
    "tri2 = hyperbolic_triangle(\n",
    "    newpoints[0],\n",
    "    newpoints[1],\n",
    "    newpoints[2],\n",
    "    model=\"PD\",\n",
    "    fill=True,\n",
    "    rgbcolor=\"#80DAEB\",\n",
    "    axes=False,\n",
    ")\n",
    "tri1 += tri2 + g1p.plot() + g2p.plot() + g3p.plot()\n",
    "\n",
    "tri1"
   ]
  },
  {
   "cell_type": "code",
   "execution_count": 111,
   "id": "d292a6d1-82a9-4a2b-afe1-f069bf9bab0c",
   "metadata": {},
   "outputs": [
    {
     "data": {
      "text/plain": [
       "True"
      ]
     },
     "execution_count": 111,
     "metadata": {},
     "output_type": "execute_result"
    }
   ],
   "source": [
    "g2.is_asymptotically_parallel(g3)"
   ]
  },
  {
   "cell_type": "code",
   "execution_count": 106,
   "id": "a81c8009-489b-4e2e-ad7f-26c3f23e615b",
   "metadata": {},
   "outputs": [
    {
     "name": "stdout",
     "output_type": "stream",
     "text": [
      "1\n",
      "2\n",
      "3\n",
      "4\n",
      "5\n",
      "6\n",
      "7\n",
      "8\n",
      "9\n",
      "10\n",
      "11\n",
      "12\n",
      "13\n",
      "14\n",
      "15\n",
      "16\n",
      "17\n",
      "18\n",
      "19\n",
      "20\n",
      "21\n",
      "22\n",
      "23\n",
      "24\n",
      "25\n",
      "26\n",
      "27\n",
      "28\n",
      "29\n",
      "30\n",
      "31\n",
      "32\n",
      "33\n",
      "34\n",
      "35\n",
      "36\n",
      "37\n",
      "38\n",
      "39\n",
      "40\n",
      "41\n",
      "42\n",
      "43\n",
      "44\n",
      "45\n",
      "46\n",
      "47\n",
      "48\n",
      "49\n",
      "50\n",
      "51\n",
      "52\n",
      "53\n",
      "54\n",
      "55\n",
      "56\n",
      "57\n",
      "58\n",
      "59\n",
      "60\n",
      "61\n",
      "62\n",
      "63\n",
      "64\n",
      "65\n",
      "66\n",
      "67\n",
      "68\n",
      "69\n",
      "70\n",
      "71\n",
      "72\n",
      "73\n",
      "74\n",
      "75\n",
      "76\n",
      "77\n",
      "78\n",
      "79\n",
      "80\n",
      "81\n",
      "82\n",
      "83\n",
      "84\n",
      "85\n",
      "86\n",
      "87\n",
      "88\n",
      "89\n",
      "90\n",
      "91\n",
      "92\n",
      "93\n",
      "94\n",
      "95\n",
      "96\n",
      "97\n",
      "98\n",
      "99\n",
      "i,\n",
      "100\n",
      "101\n",
      "102\n",
      "103\n",
      "104\n",
      "105\n",
      "106\n",
      "107\n",
      "108\n",
      "109\n",
      "110\n",
      "111\n",
      "112\n",
      "113\n",
      "114\n",
      "115\n",
      "116\n",
      "117\n",
      "118\n",
      "119\n",
      "120\n",
      "121\n",
      "122\n",
      "123\n",
      "124\n",
      "125\n",
      "126\n",
      "127\n",
      "128\n",
      "129\n",
      "130\n",
      "131\n",
      "132\n",
      "133\n",
      "134\n",
      "135\n",
      "136\n",
      "137\n",
      "138\n",
      "139\n",
      "140\n",
      "141\n",
      "142\n",
      "143\n",
      "144\n",
      "145\n",
      "146\n",
      "147\n",
      "148\n",
      "149\n",
      "150\n",
      "151\n",
      "152\n",
      "153\n",
      "154\n",
      "155\n",
      "156\n",
      "157\n",
      "158\n",
      "159\n",
      "160\n",
      "161\n",
      "162\n",
      "163\n",
      "164\n",
      "165\n",
      "166\n",
      "167\n",
      "168\n",
      "169\n",
      "170\n",
      "171\n",
      "172\n",
      "173\n",
      "174\n",
      "175\n",
      "176\n",
      "177\n",
      "178\n",
      "179\n",
      "180\n",
      "181\n",
      "182\n",
      "183\n",
      "184\n",
      "185\n",
      "186\n",
      "187\n",
      "188\n",
      "189\n",
      "190\n",
      "191\n",
      "192\n",
      "193\n",
      "194\n",
      "195\n",
      "196\n",
      "197\n",
      "198\n",
      "199\n",
      "i,\n",
      "200\n",
      "201\n",
      "202\n",
      "203\n",
      "204\n",
      "205\n",
      "206\n",
      "207\n",
      "208\n",
      "209\n",
      "210\n",
      "211\n",
      "212\n",
      "213\n",
      "214\n",
      "215\n",
      "216\n",
      "217\n",
      "218\n",
      "219\n",
      "220\n",
      "221\n",
      "222\n",
      "223\n",
      "224\n",
      "225\n",
      "226\n",
      "227\n",
      "228\n",
      "229\n",
      "230\n",
      "231\n",
      "232\n",
      "233\n",
      "234\n",
      "235\n",
      "236\n",
      "237\n",
      "238\n",
      "239\n",
      "240\n",
      "241\n",
      "242\n",
      "243\n",
      "244\n"
     ]
    }
   ],
   "source": [
    "\n",
    "basealpha=1.0\n",
    "\n",
    "def do_reflect(p1, p2, p3):\n",
    "    global allpts\n",
    "    global basealpha\n",
    "\n",
    "    #basealpha = basealpha/1.5\n",
    "    \n",
    "    g1 = PD.get_geodesic(p1, p2, color=\"blue\", axes=False)\n",
    "    g2 = PD.get_geodesic(p2, p3, color=\"blue\", axes=False)\n",
    "    g3 = PD.get_geodesic(p3, p1, color=\"blue\", axes=False)\n",
    "    \n",
    "    inv1 = g1.reflection_involution()\n",
    "    inv2 = g2.reflection_involution()\n",
    "    inv3 = g3.reflection_involution()\n",
    "\n",
    "    g1p = inv1 * g1\n",
    "    g2p = inv1 * g2\n",
    "    g3p = inv1 * g3\n",
    "    \n",
    "    newpoints = tuple( Set([g1p.start().coordinates(), g1p.end().coordinates(), g2p.start().coordinates(), g2p.end().coordinates(), g3p.start().coordinates(), g3p.end().coordinates()]))\n",
    "    allpts.append(newpoints)\n",
    "\n",
    "    t1 = hyperbolic_triangle(newpoints[0],newpoints[1],newpoints[2], model=\"PD\", fill=True, rgbcolor=\"#80DAEB\", axes=False, alpha=basealpha, resolution=400)\n",
    "    t1 += g1p.plot(color=\"blue\", axes=False) + g2p.plot(color=\"blue\", axes=False) + g3p.plot(color=\"blue\", axes=False)\n",
    "\n",
    "    g1p = inv2 * g1\n",
    "    g2p = inv2 * g2\n",
    "    g3p = inv2 * g3\n",
    "\n",
    "    newpoints = tuple( Set([g1p.start().coordinates(), g1p.end().coordinates(), g2p.start().coordinates(), g2p.end().coordinates(), g3p.start().coordinates(), g3p.end().coordinates()]))\n",
    "    allpts.append(newpoints)\n",
    "\n",
    "    t2 = hyperbolic_triangle(newpoints[0],newpoints[1],newpoints[2], model=\"PD\", fill=True, rgbcolor=\"#80DAEB\", axes=False, alpha=basealpha, resolution=400)\n",
    "    t2 += g1p.plot(color=\"blue\", axes=False) + g2p.plot(color=\"blue\", axes=False) + g3p.plot(color=\"blue\", axes=False)\n",
    "\n",
    "    g1p = inv3 * g1\n",
    "    g2p = inv3 * g2\n",
    "    g3p = inv3 * g3\n",
    "\n",
    "    newpoints = tuple( Set([g1p.start().coordinates(), g1p.end().coordinates(), g2p.start().coordinates(), g2p.end().coordinates(), g3p.start().coordinates(), g3p.end().coordinates()]))\n",
    "    allpts.append(newpoints)\n",
    "\n",
    "    t3 = hyperbolic_triangle(newpoints[0],newpoints[1],newpoints[2], model=\"PD\", fill=True, rgbcolor=\"#80DAEB\", axes=False, alpha=basealpha, resolution=400)\n",
    "    t3 += g1p.plot(color=\"blue\", axes=False) + g2p.plot(color=\"blue\", axes=False) + g3p.plot(color=\"blue\", axes=False)\n",
    "\n",
    "    return t1 + t2 + t3\n",
    "\n",
    "\n",
    "p1 = UHP.get_point(-1).to_model(PD)\n",
    "p2 = UHP.get_point(1).to_model(PD)\n",
    "p3 = UHP.get_point(Infinity).to_model(PD)\n",
    "\n",
    "allpts = [(p1.coordinates(), p2.coordinates(), p3.coordinates())]\n",
    "\n",
    "a,b,c = allpts.pop(0)\n",
    "\n",
    "g1 = PD.get_geodesic(a, b, color=\"blue\", axes=False)\n",
    "g2 = PD.get_geodesic(b, c, color=\"blue\", axes=False)\n",
    "g3 = PD.get_geodesic(c, a, color=\"blue\", axes=False)\n",
    "\n",
    "basealpha=1.0\n",
    "tri1 = hyperbolic_triangle(a,b,c, model=\"PD\", fill=True, rgbcolor=\"#80DAEB\", axes=False, resolution=400, alpha=basealpha)\n",
    "tri1 += g1.plot() + g2.plot() + g3.plot()\n",
    "#show(tri1.plot())\n",
    "tri1.save_image(\"tesselation_start.png\")\n",
    "\n",
    "basealpha=0.5\n",
    "tri1 += do_reflect(a,b,c)\n",
    "#show(tri1.plot())\n",
    "tri1.save_image(\"tesselation_0.png\")\n",
    "\n",
    "\n",
    "basealpha=0.25\n",
    "j = 1\n",
    "i = 1\n",
    "while true:\n",
    "    print(i)\n",
    "    if i in [3^n+1 for n in [1..10]]:\n",
    "        basealpha = basealpha/5\n",
    "        #show(tri1.plot())\n",
    "        tri1.save_image(f'tesselation_{j}.png')\n",
    "        j += 1\n",
    "        if j >= 6:\n",
    "            break\n",
    "    a,b,c = allpts.pop(0)\n",
    "    tri1 += do_reflect(a,b,c)\n",
    "    i += 1\n",
    "    if i % 100 == 0:\n",
    "        print(\"i,\", sep='')\n",
    "\n",
    "#show(tri1.plot())\n",
    "tri1.save_image(f'tesselation_end.png')"
   ]
  },
  {
   "cell_type": "code",
   "execution_count": 112,
   "id": "daa91c9b-7758-47da-bdc3-eda366c10724",
   "metadata": {},
   "outputs": [
    {
     "name": "stdout",
     "output_type": "stream",
     "text": [
      "About the singularity :\n",
      "          Milnor number(f)   = 2\n",
      "          Corank(f)          = 1\n",
      "          Determinacy       <= 3\n",
      "Guessing type via Milnorcode:  A[2]\n",
      "\n",
      "Computing normal form ...\n",
      "   Arnold step number 2\n",
      "The singularity\n",
      "   x2+y2+z3\n",
      "is R-equivalent to A[2].\n",
      "   Milnor number = 2\n",
      "   modality      = 0\n",
      "y^2+z^2+x^3\n"
     ]
    }
   ],
   "source": [
    "singular.lib(\"classify.lib\")\n",
    "r = singular.ring(0, \"(x,y,z)\", \"ds\")\n",
    "f = singular.new(\"x^2 + y^2 + z^3\")\n",
    "print(singular.eval(\"classify({})\".format(f.name())))"
   ]
  },
  {
   "cell_type": "code",
   "execution_count": 115,
   "id": "0e4c98dd-aff5-49ab-a775-034a129890a6",
   "metadata": {},
   "outputs": [
    {
     "data": {
      "text/plain": [
       "[1,\n",
       " y,\n",
       " y^2,\n",
       " y^3,\n",
       " x,\n",
       " x*y,\n",
       " x*y^2,\n",
       " x*y^3,\n",
       " x^2,\n",
       " x^2*y,\n",
       " x^2*y^2,\n",
       " x^2*y^3,\n",
       " x^3,\n",
       " x^3*y,\n",
       " x^3*y^2,\n",
       " x^3*y^3]"
      ]
     },
     "execution_count": 115,
     "metadata": {},
     "output_type": "execute_result"
    }
   ],
   "source": [
    "var(\"x,y\")\n",
    "monomials([x, y], [4, 4])"
   ]
  },
  {
   "cell_type": "code",
   "execution_count": 1,
   "id": "ba755386-666e-4a71-992d-b3fb47c070f9",
   "metadata": {},
   "outputs": [
    {
     "data": {
      "text/plain": [
       "[(-2*x + y)/(x + y), (-x + z)/(x + y)]"
      ]
     },
     "execution_count": 1,
     "metadata": {},
     "output_type": "execute_result"
    }
   ],
   "source": [
    "x, y, z = PolynomialRing(GF(5), 3, \"xyz\").gens()\n",
    "f = x ^ 7 + y ^ 7 + z ^ 7\n",
    "X = Curve(f)\n",
    "pts = X.rational_points()\n",
    "D = X.divisor([(3, pts[0]), (-1, pts[1]), (10, pts[5])])\n",
    "X.riemann_roch_basis(D)\n"
   ]
  },
  {
   "cell_type": "code",
   "execution_count": 2,
   "id": "000b1099-9bba-40df-96ad-47191358c58d",
   "metadata": {},
   "outputs": [
    {
     "name": "stdout",
     "output_type": "stream",
     "text": [
      "Computing affine singular points ... \n",
      "Computing all points at infinity ... \n",
      "Computing affine singular places ... \n",
      "Computing singular places at infinity ... \n",
      "Computing non-singular places at infinity ... \n",
      "Adjunction divisor computed successfully\n",
      " \n",
      "The genus of the curve is 2\n"
     ]
    }
   ],
   "source": [
    "singular.LIB(\"brnoeth.lib\")\n",
    "_ = singular.ring(5, \"(x,y)\", \"lp\")\n",
    "print(singular.eval(\"list X = Adj_div(-x5+y2+x);\"))\n"
   ]
  },
  {
   "cell_type": "code",
   "execution_count": 4,
   "id": "a1ab2dcc-b32e-4ba9-babd-c4f4e094075b",
   "metadata": {},
   "outputs": [],
   "source": [
    "x, y, z = ProjectiveSpace(2, GF(5), names=\"x,y,z\").gens()\n",
    "C = Curve(y ^ 2 * z ^ 7 - x ^ 9 - x * z ^ 8)\n",
    "pts = C.rational_points()\n",
    "pts\n",
    "D1 = C.divisor(pts[0]) * 3\n",
    "D2 = C.divisor(pts[1])\n"
   ]
  },
  {
   "cell_type": "code",
   "execution_count": 5,
   "id": "78ac4e73-345e-42c2-954a-9f0efefcd43b",
   "metadata": {},
   "outputs": [
    {
     "data": {
      "text/plain": [
       "3*(x, y)"
      ]
     },
     "execution_count": 5,
     "metadata": {},
     "output_type": "execute_result"
    }
   ],
   "source": [
    "D1."
   ]
  },
  {
   "cell_type": "code",
   "execution_count": 6,
   "id": "b7a18008-a539-414d-80a6-fa99332c4496",
   "metadata": {},
   "outputs": [
    {
     "ename": "NameError",
     "evalue": "name 'Proj' is not defined",
     "output_type": "error",
     "traceback": [
      "\u001b[0;31m---------------------------------------------------------------------------\u001b[0m",
      "\u001b[0;31mNameError\u001b[0m                                 Traceback (most recent call last)",
      "Cell \u001b[0;32mIn[6], line 1\u001b[0m\n\u001b[0;32m----> 1\u001b[0m P2 \u001b[38;5;241m=\u001b[39m \u001b[43mProj\u001b[49m(Integer(\u001b[38;5;241m2\u001b[39m), \u001b[38;5;124m'\u001b[39m\u001b[38;5;124mk\u001b[39m\u001b[38;5;124m'\u001b[39m)\n\u001b[1;32m      2\u001b[0m P5 \u001b[38;5;241m=\u001b[39m Proj(Integer(\u001b[38;5;241m5\u001b[39m), \u001b[38;5;124m'\u001b[39m\u001b[38;5;124mh\u001b[39m\u001b[38;5;124m'\u001b[39m)\n\u001b[1;32m      3\u001b[0m f \u001b[38;5;241m=\u001b[39m P2\u001b[38;5;241m.\u001b[39mhom([\u001b[38;5;124m'\u001b[39m\u001b[38;5;124m2*k\u001b[39m\u001b[38;5;124m'\u001b[39m], P5)\n",
      "\u001b[0;31mNameError\u001b[0m: name 'Proj' is not defined"
     ]
    }
   ],
   "source": [
    "P2 = Proj(2, \"k\")\n",
    "sage: P5 = Proj(5, \"h\")\n",
    "sage: f = P2.hom([\"2*k\"], P5)\n",
    "sage: g = Blowup(f)\n",
    "sage: B = g.codomain()\n",
    "sage: (e, h) = B.chowring().gens()\n",
    "sage: ((6 * h - 2 * e) ^ 5).integral()\n"
   ]
  },
  {
   "cell_type": "code",
   "execution_count": 7,
   "id": "5ace6634-3ce7-4974-a25a-a314d73aaf6c",
   "metadata": {},
   "outputs": [
    {
     "ename": "NameError",
     "evalue": "name 'ChowScheme' is not defined",
     "output_type": "error",
     "traceback": [
      "\u001b[0;31m---------------------------------------------------------------------------\u001b[0m",
      "\u001b[0;31mNameError\u001b[0m                                 Traceback (most recent call last)",
      "Cell \u001b[0;32mIn[7], line 1\u001b[0m\n\u001b[0;32m----> 1\u001b[0m P2 \u001b[38;5;241m=\u001b[39m \u001b[43mChowScheme\u001b[49m(Integer(\u001b[38;5;241m2\u001b[39m), \u001b[38;5;124m'\u001b[39m\u001b[38;5;124mh\u001b[39m\u001b[38;5;124m'\u001b[39m, Integer(\u001b[38;5;241m1\u001b[39m), \u001b[38;5;124m'\u001b[39m\u001b[38;5;124mh^3\u001b[39m\u001b[38;5;124m'\u001b[39m)\n",
      "\u001b[0;31mNameError\u001b[0m: name 'ChowScheme' is not defined"
     ]
    }
   ],
   "source": [
    "P2 = ChowScheme(2, \"h\", 1, \"h^3\")\n"
   ]
  },
  {
   "cell_type": "code",
   "execution_count": 62,
   "id": "829aebf2-0107-4e94-a7a6-593e37579b10",
   "metadata": {},
   "outputs": [
    {
     "data": {
      "text/plain": [
       "2-d CPR-Fano toric variety covered by 4 affine patches"
      ]
     },
     "execution_count": 62,
     "metadata": {},
     "output_type": "execute_result"
    }
   ],
   "source": []
  },
  {
   "cell_type": "code",
   "execution_count": 15,
   "id": "2a935fbe-535d-438c-b665-9170340a27e3",
   "metadata": {},
   "outputs": [
    {
     "data": {
      "text/html": [
       "<html>\\(\\displaystyle -\\mathrm{V}\\left(s\\right) - \\mathrm{V}\\left(t\\right) - \\mathrm{V}\\left(x\\right) - \\mathrm{V}\\left(y\\right)\\)</html>"
      ],
      "text/latex": [
       "$\\displaystyle -\\mathrm{V}\\left(s\\right) - \\mathrm{V}\\left(t\\right) - \\mathrm{V}\\left(x\\right) - \\mathrm{V}\\left(y\\right)$"
      ],
      "text/plain": [
       "-V(s) - V(t) - V(x) - V(y)"
      ]
     },
     "metadata": {},
     "output_type": "display_data"
    },
    {
     "data": {
      "text/html": [
       "<html>\\(\\displaystyle 8\\)</html>"
      ],
      "text/latex": [
       "$\\displaystyle 8$"
      ],
      "text/plain": [
       "8"
      ]
     },
     "metadata": {},
     "output_type": "display_data"
    }
   ],
   "source": [
    "HH = X.cohomology_ring()\n",
    "K = X.K()\n",
    "show(K)\n",
    "show(X.integrate(HH(K) ^ 2))"
   ]
  },
  {
   "cell_type": "code",
   "execution_count": 16,
   "id": "feaed087-6a1c-4c81-a8e7-b3d3d7d0a54c",
   "metadata": {},
   "outputs": [
    {
     "data": {
      "text/plain": [
       "[-2*t - 2*y]"
      ]
     },
     "execution_count": 16,
     "metadata": {},
     "output_type": "execute_result"
    }
   ],
   "source": [
    "Kp = HH(K)\n",
    "Kp."
   ]
  },
  {
   "cell_type": "code",
   "execution_count": 17,
   "id": "37ca0bd9-2a87-4ae9-bc09-bbea0903a218",
   "metadata": {},
   "outputs": [
    {
     "data": {
      "text/plain": [
       "-1"
      ]
     },
     "execution_count": 17,
     "metadata": {},
     "output_type": "execute_result"
    }
   ],
   "source": [
    "X.dimension_singularities()"
   ]
  },
  {
   "cell_type": "code",
   "execution_count": 19,
   "id": "17840d86-6327-4e14-9f4c-de72e18ebb65",
   "metadata": {},
   "outputs": [
    {
     "name": "stdout",
     "output_type": "stream",
     "text": [
      "Defining s, t, x, y\n"
     ]
    }
   ],
   "source": [
    "X.coordinate_ring()\n",
    "X.inject_variables()"
   ]
  },
  {
   "cell_type": "code",
   "execution_count": 22,
   "id": "261f6aa2-c2e4-4913-be18-8e4ada8f9768",
   "metadata": {},
   "outputs": [
    {
     "data": {
      "text/plain": [
       "Closed subscheme of 2-d CPR-Fano toric variety covered by 4 affine patches defined by:\n",
       "  s*x + t*y,\n",
       "  x^3 + y^3"
      ]
     },
     "execution_count": 22,
     "metadata": {},
     "output_type": "execute_result"
    }
   ],
   "source": [
    "Z = X.subscheme([x * s + y * t, x ^ 3 + y ^ 3])\n",
    "Z"
   ]
  },
  {
   "cell_type": "code",
   "execution_count": 23,
   "id": "b57fabc4-04fa-40aa-9a22-7025e76f5ba4",
   "metadata": {},
   "outputs": [
    {
     "data": {
      "text/plain": [
       "2-d CPR-Fano toric variety covered by 4 affine patches"
      ]
     },
     "execution_count": 23,
     "metadata": {},
     "output_type": "execute_result"
    }
   ],
   "source": [
    "Y = toric_varieties.P1xP1_Z2()\n",
    "Y"
   ]
  },
  {
   "cell_type": "code",
   "execution_count": 59,
   "id": "0772057b-b015-4133-92de-f1cd2cc54b51",
   "metadata": {},
   "outputs": [],
   "source": [
    "from sage.geometry.fan import *\n",
    "\n",
    "e1 = vector([1, 0])\n",
    "e2 = vector([0, 1])\n",
    "# cone = Cone()\n",
    "# fan = Fan([cone])\n",
    "# X = ToricVariety(fan)\n",
    "# X\n",
    "Y = Fan2d([e1, e2, -e1, -e2], ZZ ^ 2)\n",
    "# plot(Y)"
   ]
  },
  {
   "cell_type": "code",
   "execution_count": 74,
   "id": "cb5dbf56-00b4-4e8f-92f4-48c7f29530f7",
   "metadata": {},
   "outputs": [
    {
     "data": {
      "text/html": [
       "\n",
       "<iframe srcdoc=\"&lt;!DOCTYPE html&gt;\n",
       "&lt;html&gt;\n",
       "&lt;head&gt;\n",
       "&lt;title&gt;&lt;/title&gt;\n",
       "&lt;meta charset=&quot;utf-8&quot;&gt;\n",
       "&lt;meta name=viewport content=&quot;width=device-width, user-scalable=no, minimum-scale=1.0, maximum-scale=1.0&quot;&gt;\n",
       "&lt;style&gt;\n",
       "\n",
       "    body { margin: 0px; overflow: hidden; }\n",
       "\n",
       "    #menu-container { position: absolute; bottom: 30px; right: 40px; cursor: default; }\n",
       "\n",
       "    #menu-message { position: absolute; bottom: 0px; right: 0px; white-space: nowrap;\n",
       "                    display: none; background-color: #F5F5F5; padding: 10px; }\n",
       "\n",
       "    #menu-content { position: absolute; bottom: 0px; right: 0px;\n",
       "                    display: none; background-color: #F5F5F5; border-bottom: 1px solid black;\n",
       "                    border-right: 1px solid black; border-left: 1px solid black; }\n",
       "\n",
       "    #menu-content div { border-top: 1px solid black; padding: 10px; white-space: nowrap; }\n",
       "\n",
       "    #menu-content div:hover { background-color: #FEFEFE; }\n",
       "\n",
       "    .dark-theme #menu-container { color: white; }\n",
       "\n",
       "    .dark-theme #menu-message { background-color: #181818; }\n",
       "\n",
       "    .dark-theme #menu-content { background-color: #181818; border-color: white; }\n",
       "\n",
       "    .dark-theme #menu-content div { border-color: white; }\n",
       "\n",
       "    .dark-theme #menu-content div:hover { background-color: #303030; }\n",
       "\n",
       "&lt;/style&gt;\n",
       "\n",
       "&lt;/head&gt;\n",
       "\n",
       "&lt;body&gt;\n",
       "\n",
       "&lt;script src=&quot;/nbextensions/threejs-sage/r122/three.min.js&quot;&gt;&lt;/script&gt;\n",
       "&lt;script&gt;\n",
       "  if ( !window.THREE ) document.write(&#x27; \\\n",
       "&lt;script src=&quot;https://cdn.jsdelivr.net/gh/sagemath/threejs-sage@r122/build/three.min.js&quot;&gt;&lt;\\/script&gt; \\\n",
       "            &#x27;);\n",
       "&lt;/script&gt;\n",
       "        \n",
       "&lt;script&gt;\n",
       "\n",
       "    var options = {&quot;animate&quot;: false, &quot;animationControls&quot;: true, &quot;aspectRatio&quot;: [1.0, 1.0, 1.0], &quot;autoScaling&quot;: [false, false, false], &quot;autoPlay&quot;: true, &quot;axes&quot;: false, &quot;axesLabels&quot;: [&quot;x&quot;, &quot;y&quot;, &quot;z&quot;], &quot;axesLabelsStyle&quot;: null, &quot;decimals&quot;: 2, &quot;delay&quot;: 20, &quot;frame&quot;: true, &quot;loop&quot;: true, &quot;projection&quot;: &quot;perspective&quot;, &quot;theme&quot;: &quot;light&quot;, &quot;viewpoint&quot;: false};\n",
       "    var animate = options.animate;\n",
       "\n",
       "    if ( options.theme === &#x27;dark&#x27; )\n",
       "        document.body.className = &#x27;dark-theme&#x27;;\n",
       "\n",
       "    var scene = new THREE.Scene();\n",
       "\n",
       "    var renderer = new THREE.WebGLRenderer( { antialias: true, preserveDrawingBuffer: true } );\n",
       "    renderer.setPixelRatio( window.devicePixelRatio );\n",
       "    renderer.setSize( window.innerWidth, window.innerHeight );\n",
       "    renderer.setClearColor( options.theme === &#x27;dark&#x27; ? 0 : 0xffffff, 1 );\n",
       "    document.body.appendChild( renderer.domElement );\n",
       "\n",
       "    var b = [{&quot;x&quot;:0.0, &quot;y&quot;:0.0, &quot;z&quot;:0.0}, {&quot;x&quot;:4.0, &quot;y&quot;:4.0, &quot;z&quot;:2.0}]; // bounds\n",
       "\n",
       "    if ( b[0].x === b[1].x ) {\n",
       "        b[0].x -= 1;\n",
       "        b[1].x += 1;\n",
       "    }\n",
       "    if ( b[0].y === b[1].y ) {\n",
       "        b[0].y -= 1;\n",
       "        b[1].y += 1;\n",
       "    }\n",
       "    if ( b[0].z === b[1].z ) {\n",
       "        b[0].z -= 1;\n",
       "        b[1].z += 1;\n",
       "    }\n",
       "\n",
       "    var rxRange = Math.sqrt( Math.pow( b[1].z - b[0].z, 2 )\n",
       "                            + Math.pow( b[1].y - b[0].y, 2 ) );\n",
       "    var ryRange = Math.sqrt( Math.pow( b[1].x - b[0].x, 2 )\n",
       "                            + Math.pow( b[1].z - b[0].z, 2 ) );\n",
       "    var rzRange = Math.sqrt( Math.pow( b[1].x - b[0].x, 2 )\n",
       "                            + Math.pow( b[1].y - b[0].y, 2 ) );\n",
       "    var xRange = b[1].x - b[0].x;\n",
       "    var yRange = b[1].y - b[0].y;\n",
       "    var zRange = b[1].z - b[0].z;\n",
       "\n",
       "    var ar = options.aspectRatio;\n",
       "    var a = [ ar[0], ar[1], ar[2] ]; // aspect multipliers\n",
       "\n",
       "    var autoScaling = options.autoScaling;\n",
       "    var autoAspect = 2.5;\n",
       "    if ( xRange &gt; autoAspect * rxRange &amp;&amp; autoScaling[0] ) a[0] = autoAspect * rxRange / xRange;\n",
       "    if ( yRange &gt; autoAspect * ryRange &amp;&amp; autoScaling[1] ) a[1] = autoAspect * ryRange / yRange;\n",
       "    if ( zRange &gt; autoAspect * rzRange &amp;&amp; autoScaling[2] ) a[2] = autoAspect * rzRange / zRange;\n",
       "\n",
       "    // Distance from (xMid,yMid,zMid) to any corner of the bounding box, after applying aspectRatio\n",
       "    var midToCorner = Math.sqrt( a[0]*a[0]*xRange*xRange + a[1]*a[1]*yRange*yRange + a[2]*a[2]*zRange*zRange ) / 2;\n",
       "\n",
       "    var xMid = ( b[0].x + b[1].x ) / 2;\n",
       "    var yMid = ( b[0].y + b[1].y ) / 2;\n",
       "    var zMid = ( b[0].z + b[1].z ) / 2;\n",
       "\n",
       "    var box = new THREE.Geometry();\n",
       "    box.vertices.push( new THREE.Vector3( a[0]*b[0].x, a[1]*b[0].y, a[2]*b[0].z ) );\n",
       "    box.vertices.push( new THREE.Vector3( a[0]*b[1].x, a[1]*b[1].y, a[2]*b[1].z ) );\n",
       "    var boxMesh = new THREE.Line( box );\n",
       "    var boxColor = options.theme === &#x27;dark&#x27; ? &#x27;white&#x27; : &#x27;black&#x27;;\n",
       "    if ( options.frame ) scene.add( new THREE.BoxHelper( boxMesh, boxColor ) );\n",
       "\n",
       "    if ( options.axesLabels ) {\n",
       "\n",
       "        var d = options.decimals; // decimals\n",
       "        var offsetRatio = 0.1;\n",
       "        var al = options.axesLabels;\n",
       "        var als = options.axesLabelsStyle || [{}, {}, {}];\n",
       "\n",
       "        var offset = offsetRatio * a[1]*( b[1].y - b[0].y );\n",
       "        var xm = xMid.toFixed(d);\n",
       "        if ( /^-0.?0*$/.test(xm) ) xm = xm.substr(1);\n",
       "        addLabel( al[0] + &#x27;=&#x27; + xm, a[0]*xMid, a[1]*b[1].y+offset, a[2]*b[0].z, als[0] );\n",
       "        addLabel( ( b[0].x ).toFixed(d), a[0]*b[0].x, a[1]*b[1].y+offset, a[2]*b[0].z, als[0] );\n",
       "        addLabel( ( b[1].x ).toFixed(d), a[0]*b[1].x, a[1]*b[1].y+offset, a[2]*b[0].z, als[0] );\n",
       "\n",
       "        var offset = offsetRatio * a[0]*( b[1].x - b[0].x );\n",
       "        var ym = yMid.toFixed(d);\n",
       "        if ( /^-0.?0*$/.test(ym) ) ym = ym.substr(1);\n",
       "        addLabel( al[1] + &#x27;=&#x27; + ym, a[0]*b[1].x+offset, a[1]*yMid, a[2]*b[0].z, als[1] );\n",
       "        addLabel( ( b[0].y ).toFixed(d), a[0]*b[1].x+offset, a[1]*b[0].y, a[2]*b[0].z, als[1] );\n",
       "        addLabel( ( b[1].y ).toFixed(d), a[0]*b[1].x+offset, a[1]*b[1].y, a[2]*b[0].z, als[1] );\n",
       "\n",
       "        var offset = offsetRatio * a[1]*( b[1].y - b[0].y );\n",
       "        var zm = zMid.toFixed(d);\n",
       "        if ( /^-0.?0*$/.test(zm) ) zm = zm.substr(1);\n",
       "        addLabel( al[2] + &#x27;=&#x27; + zm, a[0]*b[1].x, a[1]*b[0].y-offset, a[2]*zMid, als[2] );\n",
       "        addLabel( ( b[0].z ).toFixed(d), a[0]*b[1].x, a[1]*b[0].y-offset, a[2]*b[0].z, als[2] );\n",
       "        addLabel( ( b[1].z ).toFixed(d), a[0]*b[1].x, a[1]*b[0].y-offset, a[2]*b[1].z, als[2] );\n",
       "\n",
       "    }\n",
       "\n",
       "    function addLabel( text, x, y, z, style ) {\n",
       "\n",
       "        var color = style.color || &#x27;black&#x27;;\n",
       "        var fontSize = style.fontSize || 14;\n",
       "        var fontFamily = style.fontFamily || &#x27;monospace&#x27;;\n",
       "        var fontStyle = style.fontStyle || &#x27;normal&#x27;;\n",
       "        var fontWeight = style.fontWeight || &#x27;normal&#x27;;\n",
       "        var opacity = style.opacity || 1;\n",
       "\n",
       "        if ( options.theme === &#x27;dark&#x27; )\n",
       "            if ( color === &#x27;black&#x27; || color === &#x27;#000000&#x27; )\n",
       "                color = &#x27;white&#x27;;\n",
       "\n",
       "        if ( Array.isArray( fontStyle ) ) {\n",
       "            fontFamily = fontFamily.map( function( f ) {\n",
       "                // Need to put quotes around fonts that have whitespace in their names.\n",
       "                return /\\s/.test( f ) ? &#x27;&quot;&#x27; + f + &#x27;&quot;&#x27; : f;\n",
       "            }).join(&#x27;, &#x27;);\n",
       "        }\n",
       "\n",
       "        var canvas = document.createElement( &#x27;canvas&#x27; );\n",
       "        var context = canvas.getContext( &#x27;2d&#x27; );\n",
       "        var pixelRatio = Math.round( window.devicePixelRatio );\n",
       "\n",
       "        // For example: italic bold 20px &quot;Times New Roman&quot;, Georgia, serif\n",
       "        var font = [fontStyle, fontWeight, fontSize + &#x27;px&#x27;, fontFamily].join(&#x27; &#x27;);\n",
       "\n",
       "        context.font = font;\n",
       "        var width = context.measureText( text ).width;\n",
       "        var height = fontSize;\n",
       "\n",
       "        // The dimensions of the canvas&#x27;s underlying image data need to be powers\n",
       "        // of two in order for the resulting texture to support mipmapping.\n",
       "        canvas.width = THREE.MathUtils.ceilPowerOfTwo( width * pixelRatio );\n",
       "        canvas.height = THREE.MathUtils.ceilPowerOfTwo( height * pixelRatio );\n",
       "\n",
       "        // Re-compute the unscaled dimensions after the power of two conversion.\n",
       "        width = canvas.width / pixelRatio;\n",
       "        height = canvas.height / pixelRatio;\n",
       "\n",
       "        canvas.style.width = width + &#x27;px&#x27;;\n",
       "        canvas.style.height = height + &#x27;px&#x27;;\n",
       "\n",
       "        context.scale( pixelRatio, pixelRatio );\n",
       "        context.fillStyle = color;\n",
       "        context.font = font; // Must be set again after measureText.\n",
       "        context.textAlign = &#x27;center&#x27;;\n",
       "        context.textBaseline = &#x27;middle&#x27;;\n",
       "        context.fillText( text, width/2, height/2 );\n",
       "\n",
       "        var texture = new THREE.Texture( canvas );\n",
       "        texture.needsUpdate = true;\n",
       "\n",
       "        var materialOptions = { map: texture, sizeAttenuation: false, depthWrite: false };\n",
       "        if ( opacity &lt; 1 ) {\n",
       "            // Setting opacity=1 would cause the texture&#x27;s alpha component to be\n",
       "            // discarded, giving the text a black background instead of the\n",
       "            // background being transparent.\n",
       "            materialOptions.opacity = opacity;\n",
       "        }\n",
       "        var sprite = new THREE.Sprite( new THREE.SpriteMaterial( materialOptions ) );\n",
       "        sprite.position.set( x, y, z );\n",
       "\n",
       "        // Scaling factor, chosen somewhat arbitrarily so that the size of the text\n",
       "        // is consistent with previously generated plots.\n",
       "        var scale = 1/625;\n",
       "        if ( options.projection === &#x27;orthographic&#x27; ) {\n",
       "            scale = midToCorner/256; // Needs to scale along with the plot itself.\n",
       "        }\n",
       "        sprite.scale.set( scale * width, scale * height, 1 );\n",
       "\n",
       "        scene.add( sprite );\n",
       "\n",
       "        return sprite;\n",
       "\n",
       "    }\n",
       "\n",
       "    if ( options.axes ) scene.add( new THREE.AxesHelper( Math.min( a[0]*b[1].x, a[1]*b[1].y, a[2]*b[1].z ) ) );\n",
       "\n",
       "    var camera = createCamera();\n",
       "    camera.up.set( 0, 0, 1 );\n",
       "    camera.position.set( a[0]*xMid, a[1]*yMid, a[2]*zMid );\n",
       "\n",
       "    // camera is positioned so that the line from the camera to the center\n",
       "    // of the bounding sphere of the objects makes an angle of 60 degrees with x-axis\n",
       "    // and an angle of 30 degrees with z-axis and the field of view of the camera looking\n",
       "    // at the center has an angle of 45 degrees.\n",
       "    const sin8 = Math.sin(Math.PI / 8);\n",
       "    const sin5 = Math.sin(Math.PI / 5);\n",
       "    const cos5 = Math.cos(Math.PI / 5);\n",
       "    const sin3 = Math.sin(Math.PI / 3);\n",
       "    const cos3 = Math.cos(Math.PI / 3);\n",
       "    var r = midToCorner / sin8;\n",
       "    var offset = new THREE.Vector3( r * sin3 * cos5, r * sin3 * sin5, r * cos3 );\n",
       "\n",
       "    if ( options.viewpoint ) {\n",
       "\n",
       "        var aa = options.viewpoint;\n",
       "        var axis = new THREE.Vector3( aa[0][0], aa[0][1], aa[0][2] ).normalize();\n",
       "        var angle = aa[1] * Math.PI / 180;\n",
       "        var q = new THREE.Quaternion().setFromAxisAngle( axis, angle ).inverse();\n",
       "\n",
       "        offset.set( 0, 0, offset.length() );\n",
       "        offset.applyQuaternion( q );\n",
       "\n",
       "    }\n",
       "\n",
       "    camera.position.add( offset );\n",
       "\n",
       "    function createCamera() {\n",
       "\n",
       "        var aspect = window.innerWidth / window.innerHeight;\n",
       "\n",
       "        // Scale the near and far clipping planes along with the overall plot size.\n",
       "        var nearClip = 0.01 * midToCorner;\n",
       "        var farClip = 100 * midToCorner;\n",
       "\n",
       "        if ( options.projection === &#x27;orthographic&#x27; ) {\n",
       "            var camera = new THREE.OrthographicCamera( -1, 1, 1, -1, -farClip, farClip );\n",
       "            updateCameraAspect( camera, aspect );\n",
       "            return camera;\n",
       "        }\n",
       "\n",
       "        return new THREE.PerspectiveCamera( 45, aspect, nearClip, farClip );\n",
       "\n",
       "    }\n",
       "\n",
       "    function updateCameraAspect( camera, aspect ) {\n",
       "\n",
       "        if ( camera.isPerspectiveCamera ) {\n",
       "            camera.aspect = aspect;\n",
       "        } else if ( camera.isOrthographicCamera ) {\n",
       "            // Fit the camera frustum to the bounding box&#x27;s diagonal so that the entire plot fits\n",
       "            // within at the default zoom level and camera position.\n",
       "            if ( aspect &gt; 1 ) { // Wide window\n",
       "                camera.top = midToCorner;\n",
       "                camera.right = midToCorner * aspect;\n",
       "            } else { // Tall or square window\n",
       "                camera.top = midToCorner / aspect;\n",
       "                camera.right = midToCorner;\n",
       "            }\n",
       "            camera.bottom = -camera.top;\n",
       "            camera.left = -camera.right;\n",
       "        }\n",
       "\n",
       "        camera.updateProjectionMatrix();\n",
       "\n",
       "    }\n",
       "\n",
       "    var lights = [{&quot;x&quot;:-5, &quot;y&quot;:3, &quot;z&quot;:0, &quot;color&quot;:&quot;#7f7f7f&quot;, &quot;parent&quot;:&quot;camera&quot;}];\n",
       "    for ( var i=0 ; i &lt; lights.length ; i++ ) {\n",
       "        var light = new THREE.DirectionalLight( lights[i].color, 1 );\n",
       "        light.position.set( a[0]*lights[i].x, a[1]*lights[i].y, a[2]*lights[i].z );\n",
       "        if ( lights[i].parent === &#x27;camera&#x27; ) {\n",
       "            light.target.position.set( a[0]*xMid, a[1]*yMid, a[2]*zMid );\n",
       "            scene.add( light.target );\n",
       "            camera.add( light );\n",
       "        } else scene.add( light );\n",
       "    }\n",
       "    scene.add( camera );\n",
       "\n",
       "    var ambient = {&quot;color&quot;:&quot;#7f7f7f&quot;};\n",
       "    scene.add( new THREE.AmbientLight( ambient.color, 1 ) );\n",
       "\n",
       "    var controls = new THREE.OrbitControls( camera, renderer.domElement );\n",
       "    controls.target.set( a[0]*xMid, a[1]*yMid, a[2]*zMid );\n",
       "    controls.addEventListener( &#x27;change&#x27;, function() { if ( !animate ) render(); } );\n",
       "\n",
       "    window.addEventListener( &#x27;resize&#x27;, function() {\n",
       "\n",
       "        renderer.setSize( window.innerWidth, window.innerHeight );\n",
       "        updateCameraAspect( camera, window.innerWidth / window.innerHeight );\n",
       "        if ( window.rescaleFatLines ) rescaleFatLines();\n",
       "        if ( !animate ) render();\n",
       "\n",
       "    } );\n",
       "\n",
       "    var texts = [];\n",
       "    for ( var i=0 ; i &lt; texts.length ; i++ ) addText( texts[i] );\n",
       "\n",
       "    function addText( json ) {\n",
       "        var sprite = addLabel( json.text, a[0]*json.x, a[1]*json.y, a[2]*json.z, json );\n",
       "        sprite.userData = json;\n",
       "    }\n",
       "\n",
       "    var points = [{&quot;point&quot;: [0.0, 0.0, 0.0], &quot;size&quot;: 10.0, &quot;color&quot;: &quot;#0000ff&quot;, &quot;opacity&quot;: 1.0}, {&quot;point&quot;: [0.0, 4.0, 0.0], &quot;size&quot;: 10.0, &quot;color&quot;: &quot;#0000ff&quot;, &quot;opacity&quot;: 1.0}, {&quot;point&quot;: [2.0, 2.0, 2.0], &quot;size&quot;: 10.0, &quot;color&quot;: &quot;#0000ff&quot;, &quot;opacity&quot;: 1.0}, {&quot;point&quot;: [4.0, 0.0, 0.0], &quot;size&quot;: 10.0, &quot;color&quot;: &quot;#0000ff&quot;, &quot;opacity&quot;: 1.0}, {&quot;point&quot;: [4.0, 4.0, 0.0], &quot;size&quot;: 10.0, &quot;color&quot;: &quot;#0000ff&quot;, &quot;opacity&quot;: 1.0}];\n",
       "    for ( var i=0 ; i &lt; points.length ; i++ ) addPoint( points[i] );\n",
       "\n",
       "    function addPoint( json ) {\n",
       "\n",
       "        var geometry = new THREE.Geometry();\n",
       "        var v = json.point;\n",
       "        geometry.vertices.push( new THREE.Vector3( a[0]*v[0], a[1]*v[1], a[2]*v[2] ) );\n",
       "\n",
       "        var canvas = document.createElement( &#x27;canvas&#x27; );\n",
       "        canvas.width = 128;\n",
       "        canvas.height = 128;\n",
       "\n",
       "        var context = canvas.getContext( &#x27;2d&#x27; );\n",
       "        context.arc( 64, 64, 64, 0, 2 * Math.PI );\n",
       "        context.fillStyle = json.color;\n",
       "        context.fill();\n",
       "\n",
       "        var texture = new THREE.Texture( canvas );\n",
       "        texture.needsUpdate = true;\n",
       "\n",
       "        var transparent = json.opacity &lt; 1 ? true : false;\n",
       "        var size = camera.isOrthographicCamera ? json.size : json.size/100;\n",
       "        var material = new THREE.PointsMaterial( { size: size, map: texture,\n",
       "                                                   transparent: transparent, opacity: json.opacity,\n",
       "                                                   alphaTest: .1 } );\n",
       "\n",
       "        var c = new THREE.Vector3();\n",
       "        geometry.computeBoundingBox();\n",
       "        geometry.boundingBox.getCenter( c );\n",
       "        geometry.translate( -c.x, -c.y, -c.z );\n",
       "\n",
       "        var mesh = new THREE.Points( geometry, material );\n",
       "        mesh.position.set( c.x, c.y, c.z );\n",
       "        mesh.userData = json;\n",
       "        scene.add( mesh );\n",
       "\n",
       "    }\n",
       "\n",
       "    var lines = [{&quot;points&quot;: [[0.0, 0.0, 0.0], [0.0, 4.0, 0.0]], &quot;color&quot;: &quot;#0000ff&quot;, &quot;opacity&quot;: 1.0, &quot;linewidth&quot;: 1.0}, {&quot;points&quot;: [[0.0, 0.0, 0.0], [2.0, 2.0, 2.0]], &quot;color&quot;: &quot;#0000ff&quot;, &quot;opacity&quot;: 1.0, &quot;linewidth&quot;: 1.0}, {&quot;points&quot;: [[0.0, 0.0, 0.0], [4.0, 0.0, 0.0]], &quot;color&quot;: &quot;#0000ff&quot;, &quot;opacity&quot;: 1.0, &quot;linewidth&quot;: 1.0}, {&quot;points&quot;: [[0.0, 4.0, 0.0], [2.0, 2.0, 2.0]], &quot;color&quot;: &quot;#0000ff&quot;, &quot;opacity&quot;: 1.0, &quot;linewidth&quot;: 1.0}, {&quot;points&quot;: [[0.0, 4.0, 0.0], [4.0, 4.0, 0.0]], &quot;color&quot;: &quot;#0000ff&quot;, &quot;opacity&quot;: 1.0, &quot;linewidth&quot;: 1.0}, {&quot;points&quot;: [[2.0, 2.0, 2.0], [4.0, 0.0, 0.0]], &quot;color&quot;: &quot;#0000ff&quot;, &quot;opacity&quot;: 1.0, &quot;linewidth&quot;: 1.0}, {&quot;points&quot;: [[2.0, 2.0, 2.0], [4.0, 4.0, 0.0]], &quot;color&quot;: &quot;#0000ff&quot;, &quot;opacity&quot;: 1.0, &quot;linewidth&quot;: 1.0}, {&quot;points&quot;: [[4.0, 0.0, 0.0], [4.0, 4.0, 0.0]], &quot;color&quot;: &quot;#0000ff&quot;, &quot;opacity&quot;: 1.0, &quot;linewidth&quot;: 1.0}];\n",
       "    for ( var i=0 ; i &lt; lines.length ; i++ ) addLine( lines[i] );\n",
       "\n",
       "    function addLine( json ) {\n",
       "\n",
       "        var geometry = new THREE.Geometry();\n",
       "        for ( var i=0 ; i &lt; json.points.length ; i++ ) {\n",
       "            var v = json.points[i];\n",
       "            geometry.vertices.push( new THREE.Vector3( a[0]*v[0], a[1]*v[1], a[2]*v[2] ) );\n",
       "        }\n",
       "\n",
       "        var c = new THREE.Vector3();\n",
       "        geometry.computeBoundingBox();\n",
       "        geometry.boundingBox.getCenter( c );\n",
       "        geometry.translate( -c.x, -c.y, -c.z );\n",
       "\n",
       "        var transparent = json.opacity &lt; 1 ? true : false;\n",
       "        var materialOptions = { color: json.color, linewidth: json.linewidth,\n",
       "                                transparent: transparent, opacity: json.opacity };\n",
       "\n",
       "        var mesh;\n",
       "        if ( json.linewidth &gt; 1 &amp;&amp; window.createFatLineStrip ) {\n",
       "            mesh = createFatLineStrip( geometry, materialOptions );\n",
       "        } else {\n",
       "            var material = new THREE.LineBasicMaterial( materialOptions );\n",
       "            mesh = new THREE.Line( geometry, material );\n",
       "        }\n",
       "\n",
       "        mesh.position.set( c.x, c.y, c.z );\n",
       "        mesh.userData = json;\n",
       "        scene.add( mesh );\n",
       "\n",
       "    }\n",
       "\n",
       "    var surfaces = [{&quot;vertices&quot;: [{&quot;x&quot;: 0.0, &quot;y&quot;: 0.0, &quot;z&quot;: 0.0}, {&quot;x&quot;: 0.0, &quot;y&quot;: 4.0, &quot;z&quot;: 0.0}, {&quot;x&quot;: 2.0, &quot;y&quot;: 2.0, &quot;z&quot;: 2.0}, {&quot;x&quot;: 4.0, &quot;y&quot;: 0.0, &quot;z&quot;: 0.0}, {&quot;x&quot;: 4.0, &quot;y&quot;: 4.0, &quot;z&quot;: 0.0}], &quot;faces&quot;: [[3, 0, 1, 4], [1, 0, 2], [2, 0, 3], [4, 2, 3], [4, 1, 2]], &quot;color&quot;: &quot;#008000&quot;, &quot;opacity&quot;: 1.0, &quot;useFlatShading&quot;: true}];\n",
       "    for ( var i=0 ; i &lt; surfaces.length ; i++ ) addSurface( surfaces[i] );\n",
       "\n",
       "    function addSurface( json ) {\n",
       "\n",
       "        var useFaceColors = &#x27;faceColors&#x27; in json ? true : false;\n",
       "\n",
       "        var geometry = new THREE.Geometry();\n",
       "        for ( var i=0 ; i &lt; json.vertices.length ; i++ ) {\n",
       "            var v = json.vertices[i];\n",
       "            geometry.vertices.push( new THREE.Vector3( a[0]*v.x, a[1]*v.y, a[2]*v.z ) );\n",
       "        }\n",
       "        for ( var i=0 ; i &lt; json.faces.length ; i++ ) {\n",
       "            var f = json.faces[i];\n",
       "            for ( var j=0 ; j &lt; f.length - 2 ; j++ ) {\n",
       "                var face = new THREE.Face3( f[0], f[j+1], f[j+2] );\n",
       "                if ( useFaceColors ) face.color.set( json.faceColors[i] );\n",
       "                geometry.faces.push( face );\n",
       "            }\n",
       "        }\n",
       "        geometry.computeVertexNormals();\n",
       "\n",
       "        var side = json.singleSide ? THREE.FrontSide : THREE.DoubleSide;\n",
       "        var transparent = json.opacity &lt; 1 ? true : false;\n",
       "        var depthWrite = &#x27;depthWrite&#x27; in json ? json.depthWrite : !transparent;\n",
       "        var flatShading = json.useFlatShading ? json.useFlatShading : false;\n",
       "\n",
       "        var material = new THREE.MeshPhongMaterial( { side: side,\n",
       "                                     color: useFaceColors ? &#x27;white&#x27; : json.color,\n",
       "                                     vertexColors: useFaceColors ? THREE.FaceColors : THREE.NoColors,\n",
       "                                     transparent: transparent, opacity: json.opacity,\n",
       "                                     shininess: 20, flatShading: flatShading,\n",
       "                                     depthWrite: depthWrite } );\n",
       "\n",
       "        var c = new THREE.Vector3();\n",
       "        geometry.computeBoundingBox();\n",
       "        geometry.boundingBox.getCenter( c );\n",
       "        geometry.translate( -c.x, -c.y, -c.z );\n",
       "\n",
       "        var mesh = new THREE.Mesh( geometry, material );\n",
       "        mesh.position.set( c.x, c.y, c.z );\n",
       "        if ( transparent &amp;&amp; json.renderOrder ) mesh.renderOrder = json.renderOrder;\n",
       "        mesh.userData = json;\n",
       "        scene.add( mesh );\n",
       "\n",
       "        if ( json.showMeshGrid ) addSurfaceMeshGrid( json );\n",
       "\n",
       "    }\n",
       "\n",
       "    function addSurfaceMeshGrid( json ) {\n",
       "\n",
       "        var geometry = new THREE.Geometry();\n",
       "\n",
       "        for ( var i=0 ; i &lt; json.faces.length ; i++ ) {\n",
       "            var f = json.faces[i];\n",
       "            for ( var j=0 ; j &lt; f.length ; j++ ) {\n",
       "                var k = j === f.length-1 ? 0 : j+1;\n",
       "                var v1 = json.vertices[f[j]];\n",
       "                var v2 = json.vertices[f[k]];\n",
       "                // vertices in opposite directions on neighboring faces\n",
       "                var nudge = f[j] &lt; f[k] ? .0005*zRange : -.0005*zRange;\n",
       "                geometry.vertices.push( new THREE.Vector3( a[0]*v1.x, a[1]*v1.y, a[2]*(v1.z+nudge) ) );\n",
       "                geometry.vertices.push( new THREE.Vector3( a[0]*v2.x, a[1]*v2.y, a[2]*(v2.z+nudge) ) );\n",
       "            }\n",
       "        }\n",
       "\n",
       "        var c = new THREE.Vector3();\n",
       "        geometry.computeBoundingBox();\n",
       "        geometry.boundingBox.getCenter( c );\n",
       "        geometry.translate( -c.x, -c.y, -c.z );\n",
       "\n",
       "        var gridColor = options.theme === &#x27;dark&#x27; ? &#x27;white&#x27; : &#x27;black&#x27;;\n",
       "        var linewidth = json.linewidth || 1;\n",
       "        var materialOptions = { color: gridColor, linewidth: linewidth };\n",
       "\n",
       "        var mesh;\n",
       "        if ( linewidth &gt; 1 &amp;&amp; window.createFatLineSegments ) {\n",
       "            mesh = createFatLineSegments( geometry, materialOptions );\n",
       "        } else {\n",
       "            var material = new THREE.LineBasicMaterial( materialOptions );\n",
       "            mesh = new THREE.LineSegments( geometry, material );\n",
       "        }\n",
       "\n",
       "        mesh.position.set( c.x, c.y, c.z );\n",
       "        mesh.userData = json;\n",
       "        scene.add( mesh );\n",
       "\n",
       "    }\n",
       "\n",
       "    function render() {\n",
       "\n",
       "        if ( window.updateAnimation ) animate = updateAnimation();\n",
       "        if ( animate ) requestAnimationFrame( render );\n",
       "\n",
       "        renderer.render( scene, camera );\n",
       "\n",
       "    }\n",
       "\n",
       "    render();\n",
       "    controls.update();\n",
       "    if ( !animate ) render();\n",
       "\n",
       "\n",
       "    // menu functions\n",
       "\n",
       "    function toggleMenu() {\n",
       "\n",
       "        var m = document.getElementById( &#x27;menu-content&#x27; );\n",
       "        if ( m.style.display === &#x27;block&#x27; ) m.style.display = &#x27;none&#x27;\n",
       "        else m.style.display = &#x27;block&#x27;;\n",
       "\n",
       "    }\n",
       "\n",
       "\n",
       "    function saveAsPNG() {\n",
       "\n",
       "        var a = document.body.appendChild( document.createElement( &#x27;a&#x27; ) );\n",
       "        a.href = renderer.domElement.toDataURL( &#x27;image/png&#x27; );\n",
       "        a.download = &#x27;screenshot&#x27;;\n",
       "        a.click();\n",
       "\n",
       "    }\n",
       "\n",
       "    function saveAsHTML() {\n",
       "\n",
       "        toggleMenu(); // otherwise visible in output\n",
       "        event.stopPropagation();\n",
       "\n",
       "        var blob = new Blob( [ &#x27;&lt;!DOCTYPE html&gt;\\n&#x27; + document.documentElement.outerHTML ] );\n",
       "        var a = document.body.appendChild( document.createElement( &#x27;a&#x27; ) );\n",
       "        a.href = window.URL.createObjectURL( blob );\n",
       "        a.download = suggestFilename();\n",
       "        a.click();\n",
       "\n",
       "        function suggestFilename() {\n",
       "            if ( !document.title ) {\n",
       "                return &#x27;graphic.html&#x27;;\n",
       "            } else if ( /\\.html?$/i.test( document.title ) ) {\n",
       "                return document.title; // already ends in .htm or .html\n",
       "            } else {\n",
       "                return document.title + &#x27;.html&#x27;;\n",
       "            }\n",
       "        }\n",
       "\n",
       "    }\n",
       "\n",
       "    function getViewpoint() {\n",
       "\n",
       "        function roundTo( x, n ) { return +x.toFixed(n); }\n",
       "\n",
       "        var v = camera.quaternion.inverse();\n",
       "        var r = Math.sqrt( v.x*v.x + v.y*v.y + v.z*v.z );\n",
       "        var axis = [ roundTo( v.x / r, 4 ), roundTo( v.y / r, 4 ), roundTo( v.z / r, 4 ) ];\n",
       "        var angle = roundTo( 2 * Math.atan2( r, v.w ) * 180 / Math.PI, 2 );\n",
       "\n",
       "        var textArea = document.createElement( &#x27;textarea&#x27; );\n",
       "        textArea.textContent = JSON.stringify( axis ) + &#x27;,&#x27; + angle;\n",
       "        textArea.style.csstext = &#x27;position: absolute; top: -100%&#x27;;\n",
       "        document.body.append( textArea );\n",
       "        textArea.select();\n",
       "        document.execCommand( &#x27;copy&#x27; );\n",
       "\n",
       "        var m = document.getElementById( &#x27;menu-message&#x27; );\n",
       "        m.innerHTML = &#x27;Viewpoint copied to clipboard&#x27;;\n",
       "        m.style.display = &#x27;block&#x27;;\n",
       "        setTimeout( function() { m.style.display = &#x27;none&#x27;; }, 2000 );\n",
       "\n",
       "    }\n",
       "\n",
       "    function getCamera() {\n",
       "\n",
       "        function roundTo( x, n ) { return +x.toFixed(n); }\n",
       "\n",
       "        var pos = camera.position;\n",
       "        var pos_r = [ roundTo( pos.x, 4 ), roundTo( pos.y, 4 ), roundTo( pos.z, 4 ) ];\n",
       "   //     var up = camera.up; // up is always (0,0,1)\n",
       "        var textArea = document.createElement(&#x27;textarea&#x27;);\n",
       "        var cam_position = JSON.stringify(pos_r);\n",
       "        textArea.textContent = &#x27;,camera_position=&#x27; + cam_position;\n",
       "        textArea.style.csstext = &#x27;position: absolute; top: -100%&#x27;;\n",
       "        document.body.append( textArea );\n",
       "        textArea.select();\n",
       "        document.execCommand( &#x27;copy&#x27; );\n",
       "\n",
       "        var m = document.getElementById( &#x27;menu-message&#x27; );\n",
       "        m.innerHTML = &#x27;Camera position &#x27;+ cam_position+&#x27; copied to clipboard&#x27;;\n",
       "        m.style.display = &#x27;block&#x27;;\n",
       "        setTimeout( function() { m.style.display = &#x27;none&#x27;; }, 2000 );\n",
       "\n",
       "    }\n",
       "\n",
       "&lt;/script&gt;\n",
       "\n",
       "&lt;div id=&quot;menu-container&quot; onclick=&quot;toggleMenu()&quot;&gt;&amp;#x24d8;\n",
       "&lt;div id=&quot;menu-message&quot;&gt;&lt;/div&gt;\n",
       "&lt;div id=&quot;menu-content&quot;&gt;\n",
       "&lt;div onclick=&quot;saveAsPNG()&quot;&gt;Save as PNG&lt;/div&gt;\n",
       "&lt;div onclick=&quot;saveAsHTML()&quot;&gt;Save as HTML&lt;/div&gt;\n",
       "&lt;div onclick=&quot;getCamera()&quot;&gt;Get camera&lt;/div&gt;\n",
       "&lt;div onclick=&quot;getViewpoint()&quot;&gt;Get viewpoint&lt;/div&gt;\n",
       "&lt;div&gt;Close Menu&lt;/div&gt;\n",
       "&lt;/div&gt;&lt;/div&gt;\n",
       "\n",
       "\n",
       "&lt;/body&gt;\n",
       "&lt;/html&gt;\n",
       "\"\n",
       "        width=\"100%\"\n",
       "        height=\"400\"\n",
       "        style=\"border: 0;\">\n",
       "</iframe>\n"
      ],
      "text/plain": [
       "Graphics3d Object"
      ]
     },
     "metadata": {},
     "output_type": "display_data"
    },
    {
     "data": {
      "text/plain": [
       "35"
      ]
     },
     "execution_count": 74,
     "metadata": {},
     "output_type": "execute_result"
    }
   ],
   "source": [
    "P1 = Polyhedron(vertices=[[0, 0, 0], [0, 4, 0], [4, 0, 0], [4, 4, 0], [2, 2, 2]])\n",
    "show(P1.plot())\n",
    "len(P1.integral_points())"
   ]
  },
  {
   "cell_type": "code",
   "execution_count": 100,
   "id": "2a36d4ac-6886-4e15-bdb3-4877bf460c2b",
   "metadata": {},
   "outputs": [
    {
     "data": {
      "text/plain": [
       "[((0, 0, 0), 0),\n",
       " ((0, 4, 0), 0),\n",
       " ((4, 0, 0), 0),\n",
       " ((4, 4, 0), 0),\n",
       " ((2, 2, 2), 0),\n",
       " ((0, 2, 0), 0),\n",
       " ((1, 1, 0), 0),\n",
       " ((1, 3, 0), 0),\n",
       " ((2, 0, 0), 0),\n",
       " ((2, 2, 0), 0),\n",
       " ((2, 4, 0), 0),\n",
       " ((3, 1, 0), 0),\n",
       " ((3, 3, 0), 0),\n",
       " ((4, 2, 0), 0),\n",
       " ((1, 2, 1), 0),\n",
       " ((2, 1, 1), 0),\n",
       " ((2, 3, 1), 0),\n",
       " ((3, 2, 1), 0)]"
      ]
     },
     "metadata": {},
     "output_type": "display_data"
    },
    {
     "data": {
      "text/plain": [
       "18"
      ]
     },
     "execution_count": 100,
     "metadata": {},
     "output_type": "execute_result"
    }
   ],
   "source": [
    "points = [[0, 0, 0], [0, 4, 0], [4, 0, 0], [4, 4, 0], [2, 2, 2]]\n",
    "# points = [ [0,0], [4,0], [0,4], [4,4]]\n",
    "# p = LatticePolytope(points, lattice=(ZZ)^3)\n",
    "# show( p.plot3d() )\n",
    "# len( p.points() )\n",
    "\n",
    "N = ToricLattice(3)\n",
    "# Ns1 = N.submodule([N(2,0), N(0,2)])\n",
    "Ns1 = N.submodule([N(2, 0, 0), N(0, 2, 0), N(0, 0, 2)])\n",
    "p = LatticePolytope(points, lattice=Ns1)\n",
    "\n",
    "ls = [((x[0], x[1], x[2]), sum(x) % 2) for x in p.points() if sum(x) % 2 == 0]\n",
    "display(ls)\n",
    "len(ls)"
   ]
  },
  {
   "cell_type": "code",
   "execution_count": 110,
   "id": "e68e952f-0b51-4c76-be27-ba00b26b270b",
   "metadata": {},
   "outputs": [
    {
     "data": {
      "text/html": [
       "<html>\\(\\displaystyle \\mathrm{False}\\)</html>"
      ],
      "text/latex": [
       "$\\displaystyle \\mathrm{False}$"
      ],
      "text/plain": [
       "False"
      ]
     },
     "metadata": {},
     "output_type": "display_data"
    },
    {
     "data": {
      "text/html": [
       "<html>\\(\\displaystyle \\left(\\right)\\)</html>"
      ],
      "text/latex": [
       "$\\displaystyle \\left(\\right)$"
      ],
      "text/plain": [
       "()"
      ]
     },
     "metadata": {},
     "output_type": "display_data"
    },
    {
     "data": {
      "text/html": [
       "<html>\\(\\displaystyle \\mathrm{True}\\)</html>"
      ],
      "text/latex": [
       "$\\displaystyle \\mathrm{True}$"
      ],
      "text/plain": [
       "True"
      ]
     },
     "metadata": {},
     "output_type": "display_data"
    },
    {
     "data": {
      "text/html": [
       "<html>\\(\\displaystyle -\\mathrm{V}\\left(s\\right) - \\mathrm{V}\\left(t\\right) - \\mathrm{V}\\left(x\\right) - \\mathrm{V}\\left(y\\right)\\)</html>"
      ],
      "text/latex": [
       "$\\displaystyle -\\mathrm{V}\\left(s\\right) - \\mathrm{V}\\left(t\\right) - \\mathrm{V}\\left(x\\right) - \\mathrm{V}\\left(y\\right)$"
      ],
      "text/plain": [
       "-V(s) - V(t) - V(x) - V(y)"
      ]
     },
     "metadata": {},
     "output_type": "display_data"
    },
    {
     "data": {
      "text/html": [
       "<html>\\(\\displaystyle 8\\)</html>"
      ],
      "text/latex": [
       "$\\displaystyle 8$"
      ],
      "text/plain": [
       "8"
      ]
     },
     "metadata": {},
     "output_type": "display_data"
    }
   ],
   "source": [
    "W = toric_varieties.P1xP1_Z2()\n",
    "show(W.is_smooth())\n",
    "show(W.defining_polynomials())\n",
    "show(W.is_orbifold())\n",
    "show(W.K())\n",
    "K = W.K()\n",
    "HH = X.cohomology_ring()\n",
    "# dP6.integrate( HH(dP6.K())^2 )\n",
    "show(X.integrate(HH(K) ^ 2))"
   ]
  },
  {
   "cell_type": "code",
   "execution_count": 67,
   "id": "1462095c-7025-44ef-b088-9cad8c12d816",
   "metadata": {},
   "outputs": [
    {
     "data": {
      "text/plain": [
       "V(s)"
      ]
     },
     "execution_count": 67,
     "metadata": {},
     "output_type": "execute_result"
    }
   ],
   "source": [
    "X = toric_varieties.P1xP1()\n",
    "H = X.divisor(0)\n",
    "# H.sections_monomials()\n",
    "Ds, Dt, Dx, Dy = X.toric_divisor_group().gens()\n",
    "Ds"
   ]
  },
  {
   "cell_type": "code",
   "execution_count": 50,
   "id": "ebf5b44f-ed48-4286-8860-fc8391f8f7d1",
   "metadata": {},
   "outputs": [
    {
     "data": {
      "text/plain": [
       "31/967680*c2^3 - 11/241920*c2*c4 + 1/60480*c6"
      ]
     },
     "execution_count": 50,
     "metadata": {},
     "output_type": "execute_result"
    }
   ],
   "source": [
    "# See https://www.math.sciences.univ-nantes.fr/~sorger/en/chow/\n",
    "from sage.schemes.chow.all import *\n",
    "\n",
    "X = ChowScheme(6, [\"c2\", \"c4\", \"c6\"], [2, 4, 6])\n",
    "td = Sheaf(X, 6, 1 + sum(X.gens())).todd_class()\n",
    "(td._logg() / 2)._expp().by_degrees()[6]\n"
   ]
  },
  {
   "cell_type": "code",
   "execution_count": 51,
   "id": "c7e37704-2698-4a1b-984f-d26a7a3bc0bc",
   "metadata": {},
   "outputs": [
    {
     "data": {
      "text/plain": [
       "3264"
      ]
     },
     "execution_count": 51,
     "metadata": {},
     "output_type": "execute_result"
    }
   ],
   "source": [
    "P2 = Proj(2, \"k\")\n",
    "sage: P5 = Proj(5, \"h\")\n",
    "sage: f = P2.hom([\"2*k\"], P5)\n",
    "sage: g = Blowup(f)\n",
    "sage: B = g.codomain()\n",
    "sage: (e, h) = B.chowring().gens()\n",
    "sage: ((6 * h - 2 * e) ^ 5).integral()\n"
   ]
  },
  {
   "cell_type": "code",
   "execution_count": 52,
   "id": "ddb5ec1c-4eb2-4bfa-af37-ea5dfd4012f4",
   "metadata": {},
   "outputs": [],
   "source": [
    "B.chowring().gens()\n",
    "(e, h)\n",
    "sage: B.chowring().rels()\n",
    "[h ^ 6, e * h ^ 3, e ^ 3 - 9 / 2 * e ^ 2 * h + 15 / 2 * e * h ^ 2 - 4 * h ^ 3]\n",
    "sage: B.tangent_bundle().chern_classes()\n",
    "[\n",
    "    1,\n",
    "    -2 * e + 6 * h,\n",
    "    -15 / 2 * e * h + 15 * h ^ 2,\n",
    "    9 / 2 * e ^ 2 * h - 93 / 4 * e * h ^ 2 + 28 * h ^ 3,\n",
    "    27 / 4 * e ^ 2 * h ^ 2 + 27 * h ^ 4,\n",
    "    12 * h ^ 5,\n",
    "]\n",
    "sage: B.betti_numbers()\n",
    "[1, 2, 3, 3, 2, 1]\n",
    "sage: B.tangent_bundle().chern_classes()[5].integral()  # The Euler number"
   ]
  },
  {
   "cell_type": "code",
   "execution_count": 53,
   "id": "814fd447-0fad-4885-a6a4-13661739e6f2",
   "metadata": {},
   "outputs": [
    {
     "data": {
      "text/plain": [
       "2875"
      ]
     },
     "execution_count": 53,
     "metadata": {},
     "output_type": "execute_result"
    }
   ],
   "source": [
    "H = Grass(5, 2)  # lines in P4\n",
    "sage: Q = H.sheaves[\"universal_quotient\"]\n",
    "sage: Q.symm(5).chern_classes()[H.dimension()].integral()\n"
   ]
  },
  {
   "cell_type": "code",
   "execution_count": 54,
   "id": "7fc70203-2f43-446f-a4fb-78476d31c272",
   "metadata": {},
   "outputs": [
    {
     "data": {
      "text/plain": [
       "609250"
      ]
     },
     "execution_count": 54,
     "metadata": {},
     "output_type": "execute_result"
    }
   ],
   "source": [
    " G = Grass(5, 3)  # 2-planes in P4\n",
    "sage: Q = G.sheaves[\"universal_quotient\"]\n",
    "sage: H = ProjBundle(Q.symm(2).dual())\n",
    "sage: f = H.base_morphism()  # H -> G\n",
    "sage: A = f.upperstar(Q.symm(5)) - f.upperstar(Q.symm(3)) * H.o(-1)\n",
    "sage: A.chern_classes()[H.dimension()].integral()\n"
   ]
  },
  {
   "cell_type": "code",
   "execution_count": null,
   "id": "38615197-0c63-413a-b000-5293839ae784",
   "metadata": {},
   "outputs": [],
   "source": []
  }
 ],
 "metadata": {
  "kernelspec": {
   "display_name": "SageMath 10.4.beta5",
   "language": "sage",
   "name": "sagemath"
  },
  "language_info": {
   "codemirror_mode": {
    "name": "ipython",
    "version": 3
   },
   "file_extension": ".py",
   "mimetype": "text/x-python",
   "name": "python",
   "nbconvert_exporter": "python",
   "pygments_lexer": "ipython3",
   "version": "3.11.1"
  },
  "widgets": {
   "application/vnd.jupyter.widget-state+json": {
    "state": {},
    "version_major": 2,
    "version_minor": 0
   }
  }
 },
 "nbformat": 4,
 "nbformat_minor": 5
}
